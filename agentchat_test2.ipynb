{
 "cells": [
  {
   "cell_type": "code",
   "execution_count": 1,
   "id": "5942e840-ebb4-4027-b78e-57af78b5c72f",
   "metadata": {},
   "outputs": [],
   "source": [
    "import copy\n",
    "import json\n",
    "import os\n",
    "import numpy\n",
    "from typing import Any, Callable, Dict, List, Literal, Optional, Tuple, Union\n",
    "\n",
    "from openai import BadRequestError\n",
    "\n",
    "import autogen\n",
    "from autogen import UserProxyAgent, AssistantAgent, ConversableAgent\n",
    "from autogen import config_list_from_json\n",
    "from autogen.agentchat import Agent\n",
    "from autogen.agentchat.contrib.agent_optimizer import AgentOptimizer\n",
    "from autogen.agentchat.contrib.math_user_proxy_agent import MathUserProxyAgent\n",
    "from autogen.code_utils import extract_code\n",
    "from autogen.math_utils import get_answer"
   ]
  },
  {
   "cell_type": "markdown",
   "id": "0a3a52f8-15c9-40f4-a5de-af6b34889e47",
   "metadata": {},
   "source": [
    "## Data"
   ]
  },
  {
   "cell_type": "code",
   "execution_count": 2,
   "id": "2215658f-78f8-4a7d-912a-6db8e14fdb91",
   "metadata": {},
   "outputs": [],
   "source": [
    "def read_file(url):\n",
    "    file = open(url, \"r\")\n",
    "    data = file.read().split('\\n')\n",
    "    return data"
   ]
  },
  {
   "cell_type": "code",
   "execution_count": 3,
   "id": "9c1402f6-b7e8-4d1f-9496-35cf6fceb995",
   "metadata": {},
   "outputs": [],
   "source": [
    "phoMT_dev_en = read_file(\"data/PhoMT/detokenization/dev/dev.en\")\n",
    "phoMT_dev_vi = read_file(\"data/PhoMT/detokenization/dev/dev.vi\")\n",
    "phoMT_test_en = read_file(\"data/PhoMT/detokenization/test/test.en\")\n",
    "phoMT_test_vi = read_file(\"data/PhoMT/detokenization/test/test.vi\")\n",
    "phoMT_train_en = read_file(\"data/PhoMT/detokenization/train/train.en\")\n",
    "phoMT_train_vi = read_file(\"data/PhoMT/detokenization/train/train.vi\")"
   ]
  },
  {
   "cell_type": "code",
   "execution_count": 4,
   "id": "dd9baa46-f350-48e2-b961-8c2d90713847",
   "metadata": {},
   "outputs": [],
   "source": [
    "phoMT_dev_en[0] = phoMT_dev_en[0][1:]"
   ]
  },
  {
   "cell_type": "code",
   "execution_count": 5,
   "id": "e49c978d-07e0-4e71-bf95-c1ba9696ec54",
   "metadata": {},
   "outputs": [],
   "source": [
    "phoMT_dev_envi = [];\n",
    "for index in range(len(phoMT_dev_en)):\n",
    "    phoMT_dev_envi.append({\"question\":phoMT_dev_en[index], \"answer\": phoMT_dev_vi[index]})\n",
    "phoMT_test_envi = [];\n",
    "for index in range(len(phoMT_test_en)):\n",
    "    phoMT_test_envi.append({\"question\": phoMT_test_en[index], \"answer\": phoMT_test_vi[index]})\n",
    "phoMT_train_envi = [];\n",
    "for index in range(len(phoMT_train_en)):\n",
    "    phoMT_train_envi.append({\"question\": phoMT_train_en[index], \"answer\": phoMT_train_vi[index]})\n",
    "# phoMT_dev_envi"
   ]
  },
  {
   "cell_type": "code",
   "execution_count": 6,
   "id": "8d088d4c-ae88-4867-a876-17485e8a8dd9",
   "metadata": {},
   "outputs": [
    {
     "data": {
      "text/plain": [
       "'Hurricane Dorian, one of the most powerful storms ever recorded in the Atlantic Ocean, made landfall as a Category 5 storm on Great Abaco Island in the northern Bahamas on Sunday morning, September 1, 2019.'"
      ]
     },
     "execution_count": 6,
     "metadata": {},
     "output_type": "execute_result"
    }
   ],
   "source": [
    "phoMT_dev_envi[0][\"question\"]"
   ]
  },
  {
   "cell_type": "markdown",
   "id": "89700002-0754-44ca-a3bb-89820799ed1e",
   "metadata": {},
   "source": [
    "## Benchmark"
   ]
  },
  {
   "cell_type": "markdown",
   "id": "d7efb320-b15d-4161-900b-a4276749ffe3",
   "metadata": {
    "jp-MarkdownHeadingCollapsed": true
   },
   "source": [
    "### Comet"
   ]
  },
  {
   "cell_type": "code",
   "execution_count": 7,
   "id": "eb2928a5-3b01-4dbe-a4d2-3ae3a9240ff0",
   "metadata": {},
   "outputs": [
    {
     "name": "stderr",
     "output_type": "stream",
     "text": [
      "/home/kaylous/workspace/ics/llms/.venv/lib/python3.11/site-packages/transformers/tokenization_utils_base.py:1601: FutureWarning: `clean_up_tokenization_spaces` was not set. It will be set to `True` by default. This behavior will be depracted in transformers v4.45, and will be then set to `False` by default. For more details check this issue: https://github.com/huggingface/transformers/issues/31884\n",
      "  warnings.warn(\n",
      "Encoder model frozen.\n",
      "/home/kaylous/workspace/ics/llms/.venv/lib/python3.11/site-packages/pytorch_lightning/core/saving.py:195: Found keys that are not in the model state dict but in the checkpoint: ['encoder.model.embeddings.position_ids']\n"
     ]
    }
   ],
   "source": [
    "from comet import download_model, load_from_checkpoint\n",
    "\n",
    "# Choose your model from Hugging Face Hub\n",
    "# model_path = download_model(\"Unbabel/XCOMET-XL\")\n",
    "# or for example:\n",
    "# model_path = download_model(\"Unbabel/wmt22-comet-da\")\n",
    "\n",
    "# Load the model checkpoint:\n",
    "model = load_from_checkpoint('./XCOMET-XL/checkpoints/model.ckpt')"
   ]
  },
  {
   "cell_type": "code",
   "execution_count": 8,
   "id": "41de0885-97c6-4dff-886d-84d403909b4e",
   "metadata": {},
   "outputs": [],
   "source": [
    "# data = [\n",
    "#     {\n",
    "#         \"src\": \"Boris Johnson teeters on edge of favour with Tory MPs\", \n",
    "#         \"mt\": \"Boris Johnson ist bei Tory-Abgeordneten völlig in der Gunst\", \n",
    "#         \"ref\": \"Boris Johnsons Beliebtheit bei Tory-MPs steht auf der Kippe\"\n",
    "#     }\n",
    "# ]\n",
    "# model_output = model.predict(data, batch_size=8, gpus=1)\n",
    "# Segment-level scores\n",
    "# System-level score\n",
    "# Score explanation (error spans)"
   ]
  },
  {
   "cell_type": "code",
   "execution_count": 9,
   "id": "2fa81658-2374-4800-96f3-6a4737cfc56a",
   "metadata": {},
   "outputs": [],
   "source": [
    "# model_output.scores"
   ]
  },
  {
   "cell_type": "code",
   "execution_count": 10,
   "id": "93ff3145-8acd-4e59-89d8-b73f7ce52c15",
   "metadata": {},
   "outputs": [],
   "source": [
    "# model_output.system_score"
   ]
  },
  {
   "cell_type": "code",
   "execution_count": 11,
   "id": "3ec1d7c1-44d4-4b60-859c-bc41a99e1dab",
   "metadata": {},
   "outputs": [],
   "source": [
    "# model_output.metadata.error_spans"
   ]
  },
  {
   "cell_type": "code",
   "execution_count": 6,
   "id": "c4e1f374-9c88-4aa9-8db0-622c9c7d1617",
   "metadata": {},
   "outputs": [],
   "source": [
    "def get_score(src, ans, res):\n",
    "    data = [\n",
    "        {\n",
    "            \"src\": src,\n",
    "            \"mt\" : res,\n",
    "            \"ref\": ans\n",
    "        }\n",
    "    ]\n",
    "    return model.predict(data, batch_size=8, gpus=1).system_score"
   ]
  },
  {
   "cell_type": "markdown",
   "id": "07f93b19-da94-41a0-a239-132589729474",
   "metadata": {},
   "source": [
    "### SacreBleu"
   ]
  },
  {
   "cell_type": "code",
   "execution_count": 7,
   "id": "d1946652-7982-4204-88c3-a435d11c613a",
   "metadata": {},
   "outputs": [],
   "source": [
    "from sacrebleu.metrics import BLEU, CHRF, TER\n",
    "bleu = BLEU()\n",
    "\n",
    "def get_score(src, ans, res):\n",
    "     return bleu.corpus_score([ans], [[res]]).score"
   ]
  },
  {
   "cell_type": "markdown",
   "id": "bb4b8b20-9848-4983-9cdf-1762b1d6389e",
   "metadata": {},
   "source": [
    "## Agent init"
   ]
  },
  {
   "cell_type": "markdown",
   "id": "43dac48d-5477-4b07-bb3e-57dd139b9f27",
   "metadata": {},
   "source": [
    "### Agents declarations"
   ]
  },
  {
   "cell_type": "code",
   "execution_count": 8,
   "id": "d597e883-98d0-4ca7-b3df-b7cd140cb67b",
   "metadata": {},
   "outputs": [],
   "source": [
    "llm_config = {\n",
    "    \"config_list\": [\n",
    "        {\n",
    "            \"model\": \"llama3\",\n",
    "            \"base_url\": \"http://localhost:11434/v1\",\n",
    "            \"api_key\": \"ollama\",\n",
    "        }\n",
    "    ]\n",
    "}\n",
    "\n",
    "PromptGenerator = autogen.UserProxyAgent(\n",
    "    name=\"PromptGenerator\",\n",
    "    system_message=\"You are a prompt engineer\",\n",
    "    human_input_mode = \"NEVER\",\n",
    "    code_execution_config=False,\n",
    "    llm_config=llm_config,\n",
    ")\n",
    "LLM = autogen.AssistantAgent(\n",
    "    name=\"LLM\",\n",
    "    system_message=\"You are a helpful assistant\",\n",
    "    code_execution_config=False,\n",
    "    llm_config=llm_config,\n",
    ")\n",
    "\n",
    "# user_proxy = autogen.UserProxyAgent(\n",
    "#     name=\"Userproxyagent\",\n",
    "#     human_input_mode=\"NEVER\",\n",
    "#     code_execution_config={\"work_dir\": \"_output\", \"use_docker\": False},\n",
    "# )"
   ]
  },
  {
   "cell_type": "code",
   "execution_count": 10,
   "id": "7ee97b67-bf45-447f-8b0e-43358420e7fc",
   "metadata": {},
   "outputs": [],
   "source": [
    "# output = PromptGenerator.initiate_chat(\n",
    "#     recipient = LLM,\n",
    "#     max_turns = 1,\n",
    "#     message = \"Translate this sentence to Vietnamese, say no more than necessary, and no notes: \" + phoMT_dev_envi[0][\"question\"],\n",
    "#     answer = phoMT_dev_envi[0][\"answer\"]\n",
    "# )"
   ]
  },
  {
   "cell_type": "code",
   "execution_count": 11,
   "id": "149d3fe9-8096-4ee8-925d-9c21a57dc031",
   "metadata": {},
   "outputs": [],
   "source": [
    "# output.summary"
   ]
  },
  {
   "cell_type": "code",
   "execution_count": 12,
   "id": "374a5ff3-5791-4ae5-8d89-beae828f4674",
   "metadata": {},
   "outputs": [],
   "source": [
    "# get_score(phoMT_dev_envi[0][\"question\"], phoMT_dev_envi[0][\"answer\"], output.summary)"
   ]
  },
  {
   "cell_type": "markdown",
   "id": "82b879a2-0771-4521-85a0-faa076ae3b20",
   "metadata": {},
   "source": [
    "### Custom UserProxyAgent"
   ]
  },
  {
   "cell_type": "code",
   "execution_count": 17,
   "id": "7bad383b-7b8e-4483-bd35-7a29ba6ea47f",
   "metadata": {},
   "outputs": [],
   "source": [
    "def is_termination_msg_mathchat(message):\n",
    "    \"\"\"Check if a message is a termination message.\"\"\"\n",
    "    if isinstance(message, dict):\n",
    "        message = message.get(\"content\")\n",
    "        if message is None:\n",
    "            return False\n",
    "    if message.rstrip().find(\"TERMINATE\") >= 0:\n",
    "        return True\n",
    "    return False\n",
    "\n",
    "\n",
    "class JudgeProxyAgent(UserProxyAgent):\n",
    "    MAX_CONSECUTIVE_AUTO_REPLY = 10\n",
    "    DEFAULT_REPLY_TEMPLATE = \"Generate a response more closely resembling the style, detail, and tone of the provided answer. Focus on specifying key elements to capture the nuances of this answer effectively. The answer: \"\n",
    "    PROMPTS = \"\"\"Translate a sentence from English to Vietnamese. Produce an accurate, context-sensitive translation that maintains the tone and meaning of the original sentence. Ensure that the output sounds natural for native Vietnamese speakers.\n",
    "    Respond only with the requested output. Do not include any explanations, introductions, follow-up remarks, or additional feedback. Provide exactly and only what is specified in the task.\n",
    "    The text:\n",
    "    \"\"\"\n",
    "\n",
    "    def __init__(\n",
    "        self,\n",
    "        name: Optional[str] = \"JudgeChatAgent\",\n",
    "        # is_termination_msg: Optional[Callable[[Dict], bool]] = is_termination_msg_mathchat,\n",
    "        human_input_mode: Literal[\"ALWAYS\", \"NEVER\", \"TERMINATE\"] = \"NEVER\",\n",
    "        # default_auto_reply: Optional[Union[str, Dict, None]] = DEFAULT_REPLY,\n",
    "        # max_invalid_q_per_step=3,\n",
    "        **kwargs,\n",
    "    ):\n",
    "        super().__init__(\n",
    "            name=name,\n",
    "            # is_termination_msg=is_termination_msg,\n",
    "            human_input_mode=human_input_mode,\n",
    "            # default_auto_reply=default_auto_reply,\n",
    "            # max_invalid_q_per_step=max_invalid_q_per_step,\n",
    "            **kwargs,\n",
    "        )\n",
    "        self.register_reply(\n",
    "            trigger=ConversableAgent, reply_func=JudgeProxyAgent.generate_feedback, position=0\n",
    "        )\n",
    "        self.register_reply(\n",
    "            trigger=ConversableAgent, reply_func=JudgeProxyAgent._check_final_result, position=0\n",
    "        )\n",
    "        self.max_function_call_trial = 3\n",
    "        self.query = None\n",
    "        self._answer = None\n",
    "        self.is_correct = None\n",
    "        # self.history = []\n",
    "\n",
    "    def initiate_chat(\n",
    "        self,\n",
    "        recipient,\n",
    "        history: Optional[Dict[Agent, List[Dict]]] = None,\n",
    "        answer=None,\n",
    "        silent: Optional[bool] = False,\n",
    "        max_turns = 3,\n",
    "        **context,\n",
    "    ):\n",
    "        self.query = context[\"message\"]\n",
    "        self._answer = answer\n",
    "        self.max_turns = max_turns\n",
    "        \n",
    "        # self.llm_config[\"context\"] = {\"question\": self.query, \"answer\": answer}\n",
    "        # self.DEFAULT_REPLY = self.DEFAULT_REPLY_TEMPLATE + answer\n",
    "        self.is_correct = None\n",
    "        self.max_function_call_trial = max_turns\n",
    "\n",
    "        self._prepare_chat(recipient, True)\n",
    "        print(self._oai_messages)\n",
    "        # self._append_oai_message(history)\n",
    "        if history is not None:\n",
    "            for agent in history:\n",
    "                for msg in history[agent]:\n",
    "                    self._append_oai_message(message=msg, conversation_id=agent) \n",
    "        # print(history)\n",
    "        # self._oai_messages = history\n",
    "        error_message = None\n",
    "        try:\n",
    "            prompt = self.PROMPTS + context['message']\n",
    "            self.send(prompt, recipient, silent=silent)\n",
    "        except BadRequestError as e:\n",
    "            error_message = str(e)\n",
    "            self.is_correct = 0\n",
    "            print(\"error information: {}\".format(error_message))\n",
    "\n",
    "        recipient.reset()\n",
    "        # print(\"Check self.is_correct\")\n",
    "        self.is_correct = copy.deepcopy(self.is_correct)\n",
    "        result = self.is_correct\n",
    "        # print(self.is_correct)\n",
    "        # print(result)\n",
    "        # print(str(result))\n",
    "        print(\"End check\")\n",
    "        self._reset()\n",
    "        return result\n",
    "\n",
    "    def receive(\n",
    "        self,\n",
    "        message: Union[Dict, str],\n",
    "        sender: Agent,\n",
    "        request_reply: Optional[bool] = None,\n",
    "        silent: Optional[bool] = False,\n",
    "    ):\n",
    "        self._process_received_message(message, sender, silent)\n",
    "        if request_reply is False or request_reply is None and self.reply_at_receive[sender] is False:\n",
    "            return\n",
    "\n",
    "        self.is_correct = self.chat_messages[sender][-1].get(\"content\")\n",
    "\n",
    "        if (get_score(self.query, self.is_correct, self._answer) >= 90):\n",
    "            return\n",
    "\n",
    "        self.max_function_call_trial = self.max_function_call_trial - 1\n",
    "        if (self.max_function_call_trial <= 0):\n",
    "            self.max_function_call_trial = 0\n",
    "            return\n",
    "\n",
    "        reply = f\"Review the generated translation for the sentence: {self.query}. Ensure it accurately conveys the meaning, tone, and context of the original text in natural Vietnamese. If any errors or unnatural phrasing are present, correct them. Respond with only the revised translation, without any additional explanations or commentary.\"\n",
    "        if self._answer is not None:\n",
    "            # full_history = self.history + self.chat_messages[sender]\n",
    "            # reply = self.generate_reply(messages=full_history, sender=sender)\n",
    "            reply = self.generate_reply(messages=self.chat_messages[sender], sender=sender)\n",
    "            \n",
    "        if reply is not None:\n",
    "            self.send(reply, sender, silent=silent)\n",
    "\n",
    "    def generate_feedback(\n",
    "        self,\n",
    "        messages: Optional[List[Dict]] = None,\n",
    "        sender: Optional[Agent] = None,\n",
    "        config: Optional[Any] = None,\n",
    "    ):\n",
    "        # self.max_function_call_trial = self.max_function_call_trial - 1\n",
    "        # if (self.max_function_call_trial <= 0):\n",
    "        #     self.max_function_call_trial = 0\n",
    "        #     return False, None\n",
    "        messages = messages[-1]\n",
    "        if isinstance(messages, dict):\n",
    "            # messages = messages.get(\"content\")\n",
    "            if messages.get(\"content\") is None:\n",
    "                return False, None\n",
    "        reply_prompt = f\"Review the generated translation for the sentence: {self.query}. Ensure it accurately conveys the meaning, tone, and context of the original text in natural Vietnamese. If any errors or unnatural phrasing are present, correct them. Respond with only the revised translation, without any additional explanations or commentary.\"\n",
    "        if self._answer is not None:\n",
    "            reply_prompt = f'Analyze the original sentence: {self.query}, the expected Vietnamese translation: {self._answer}, and the generated translation: {messages.get(\"content\")}. Identify the differences between {messages.get(\"content\")} and {self._answer}, and provide guidance to improve the translation so it aligns more closely with {self._answer}. Focus on preserving meaning, tone, style, and naturalness in Vietnamese while addressing any discrepancies.'\n",
    "\n",
    "        toned_message = messages\n",
    "        default_prompt_for_trimming = \"Respond only with the requested output. Do not include any explanations, introductions, follow-up remarks, or additional feedback. Provide exactly and only what is specified in the task.\"\n",
    "        if self._answer is not None:\n",
    "            toned_message[\"content\"] = reply_prompt + \". \" + default_prompt_for_trimming\n",
    "        else:\n",
    "            toned_message[\"content\"] = reply_prompt\n",
    "        state, oai_reply = self.generate_oai_reply(\n",
    "            messages = [toned_message],\n",
    "            sender = sender,\n",
    "            config = config\n",
    "        )\n",
    "        if state:\n",
    "            return True, oai_reply\n",
    "        return False, None\n",
    "\n",
    "    def _check_final_result(\n",
    "        self,\n",
    "        messages: Optional[List[Dict]] = None,\n",
    "        sender: Optional[Agent] = None,\n",
    "        config: Optional[Any] = None,\n",
    "    ):\n",
    "        messages = messages[-1]\n",
    "        if isinstance(messages, dict):\n",
    "            messages = messages.get(\"content\")\n",
    "            if messages is None:\n",
    "                return False, None\n",
    "            if (messages.find(\"\\n\") >= 0):\n",
    "                print(\"Response longer than expected?\\n\" + messages)\n",
    "                # messages = messages.split(\"\\n\")[0]\n",
    "\n",
    "        self.is_correct = messages\n",
    "        temp_score = get_score(self.query, messages, self._answer)\n",
    "        print(\"Score: \" + str(temp_score))\n",
    "        if (temp_score >= 90):\n",
    "            return True, \"The result is passable. Please reply me with the same answer as before.\"\n",
    "        return False, None\n",
    "\n",
    "    def _reset(self):\n",
    "        # super()._reset()\n",
    "        self.max_function_call_trial = 0\n",
    "        self.is_correct = None\n",
    "        self.query = None\n",
    "        self._answer = None"
   ]
  },
  {
   "cell_type": "code",
   "execution_count": 18,
   "id": "09036ef3-0856-4667-bbfc-7033c6895bed",
   "metadata": {},
   "outputs": [],
   "source": [
    "# llm_config_judge = {\n",
    "#     \"config_list\": [\n",
    "#         {\n",
    "#             \"model\": \"llama3\",\n",
    "#             \"base_url\": \"http://localhost:11434/v1\",\n",
    "#             \"api_key\": \"ollama\",\n",
    "#         }\n",
    "#     ],\n",
    "#     # \"prompt\": 'Analyze the original sentence {question}, the expected translation {answer}, and the generated response. Provide advice on how to guide the model toward producing translations more closely aligned with {answer}. Focus on enhancing clarity, specificity, and context awareness in the prompt instructions. ',\n",
    "# }\n",
    "\n",
    "Judge = JudgeProxyAgent(\n",
    "    name=\"Judge\",\n",
    "    system_message=\"You are an advisor\",\n",
    "    code_execution_config=False,\n",
    "    llm_config=llm_config,\n",
    ")\n",
    "\n",
    "# groupchat = autogen.GroupChat(\n",
    "#     agents=[Judge, PromptGenerator, LLM],\n",
    "#     messages=[],\n",
    "#     max_round=50,\n",
    "#     speaker_selection_method=\"round_robin\"\n",
    "# )"
   ]
  },
  {
   "cell_type": "code",
   "execution_count": 19,
   "id": "e28350bf-09e8-44ea-b12f-ecd6fc18e04d",
   "metadata": {},
   "outputs": [
    {
     "name": "stdout",
     "output_type": "stream",
     "text": [
      "defaultdict(<class 'list'>, {<autogen.agentchat.assistant_agent.AssistantAgent object at 0x76193c742c10>: []})\n",
      "\u001b[33mJudge\u001b[0m (to LLM):\n",
      "\n",
      "Translate a sentence from English to Vietnamese. Produce an accurate, context-sensitive translation that maintains the tone and meaning of the original sentence. Ensure that the output sounds natural for native Vietnamese speakers.\n",
      "    Respond only with the requested output. Do not include any explanations, introductions, follow-up remarks, or additional feedback. Provide exactly and only what is specified in the task.\n",
      "    The text:\n",
      "    At this time, there have been no reported injuries among the 46 publishers in the two congregations on Great Abaco Island.\n",
      "\n",
      "--------------------------------------------------------------------------------\n",
      "\u001b[33mLLM\u001b[0m (to Judge):\n",
      "\n",
      "Tới giờ, chưa có báo cáo về nạn nhân thương tật nào trong số 46 nhà xuất bản tại hai giáo xứ trên đảo Abaco Đại.\n",
      "\n",
      "--------------------------------------------------------------------------------\n",
      "Score: 3.8310957084053583\n",
      "\u001b[33mJudge\u001b[0m (to LLM):\n",
      "\n",
      "Differences:\n",
      "\n",
      "* Tới giờ (Until now) vs Theo báo cáo đến thời điểm hiện tại (According to the report up to this point)\n",
      "* nạn nhân thương tật (casualty) vs không có anh chị nào bị thương (no one was injured)\n",
      "* hai giáo xứ (two churches) vs hai hội thánh (two congregations)\n",
      "\n",
      "Guidance:\n",
      "\n",
      "* Use Theo báo cáo đến thời điểm hiện tại instead of Tới giờ to maintain the same timing perspective as the original sentence\n",
      "* Replace nạn nhân thương tật with không có anh chị nào bị thương to match the original phrase's meaning and tone\n",
      "* Change hai giáo xứ to hai hội thánh to align with the original term for \"publishers\" being people, not churches\n",
      "\n",
      "--------------------------------------------------------------------------------\n",
      "\u001b[33mLLM\u001b[0m (to Judge):\n",
      "\n",
      "Theo báo cáo đến thời điểm hiện tại, chưa có báo cáo về không có anh chị nào bị thương trong số 46 nhà xuất bản tại hai hội thánh trên đảo Abaco Đại.\n",
      "\n",
      "--------------------------------------------------------------------------------\n",
      "End check\n"
     ]
    }
   ],
   "source": [
    "result = Judge.initiate_chat(\n",
    "    recipient = LLM,\n",
    "    max_turns = 2,\n",
    "    message = phoMT_dev_envi[4][\"question\"],\n",
    "    answer = phoMT_dev_envi[4][\"answer\"]\n",
    ")"
   ]
  },
  {
   "cell_type": "code",
   "execution_count": 20,
   "id": "c705639d-5684-4f7c-99d6-b330facac746",
   "metadata": {},
   "outputs": [
    {
     "data": {
      "text/plain": [
       "[{'content': 'Translate a sentence from English to Vietnamese. Produce an accurate, context-sensitive translation that maintains the tone and meaning of the original sentence. Ensure that the output sounds natural for native Vietnamese speakers.\\n    Respond only with the requested output. Do not include any explanations, introductions, follow-up remarks, or additional feedback. Provide exactly and only what is specified in the task.\\n    The text:\\n    At this time, there have been no reported injuries among the 46 publishers in the two congregations on Great Abaco Island.',\n",
       "  'role': 'assistant'},\n",
       " {'content': 'Analyze the original sentence: At this time, there have been no reported injuries among the 46 publishers in the two congregations on Great Abaco Island., the expected Vietnamese translation: Theo báo cáo đến thời điểm hiện tại, trong 46 người công bố thuộc hai hội thánh ở đảo Great Abaco thì không có anh chị nào bị thương., and the generated translation: Tới giờ, chưa có báo cáo về nạn nhân thương tật nào trong số 46 nhà xuất bản tại hai giáo xứ trên đảo Abaco Đại.. Identify the differences between Tới giờ, chưa có báo cáo về nạn nhân thương tật nào trong số 46 nhà xuất bản tại hai giáo xứ trên đảo Abaco Đại. and Theo báo cáo đến thời điểm hiện tại, trong 46 người công bố thuộc hai hội thánh ở đảo Great Abaco thì không có anh chị nào bị thương., and provide guidance to improve the translation so it aligns more closely with Theo báo cáo đến thời điểm hiện tại, trong 46 người công bố thuộc hai hội thánh ở đảo Great Abaco thì không có anh chị nào bị thương.. Focus on preserving meaning, tone, style, and naturalness in Vietnamese while addressing any discrepancies.. Respond only with the requested output. Do not include any explanations, introductions, follow-up remarks, or additional feedback. Provide exactly and only what is specified in the task.',\n",
       "  'role': 'user'},\n",
       " {'content': 'Differences:\\n\\n* Tới giờ (Until now) vs Theo báo cáo đến thời điểm hiện tại (According to the report up to this point)\\n* nạn nhân thương tật (casualty) vs không có anh chị nào bị thương (no one was injured)\\n* hai giáo xứ (two churches) vs hai hội thánh (two congregations)\\n\\nGuidance:\\n\\n* Use Theo báo cáo đến thời điểm hiện tại instead of Tới giờ to maintain the same timing perspective as the original sentence\\n* Replace nạn nhân thương tật with không có anh chị nào bị thương to match the original phrase\\'s meaning and tone\\n* Change hai giáo xứ to hai hội thánh to align with the original term for \"publishers\" being people, not churches',\n",
       "  'role': 'assistant'},\n",
       " {'content': 'Theo báo cáo đến thời điểm hiện tại, chưa có báo cáo về không có anh chị nào bị thương trong số 46 nhà xuất bản tại hai hội thánh trên đảo Abaco Đại.',\n",
       "  'role': 'user'}]"
      ]
     },
     "execution_count": 20,
     "metadata": {},
     "output_type": "execute_result"
    }
   ],
   "source": [
    "Judge.chat_messages_for_summary(LLM)"
   ]
  },
  {
   "cell_type": "code",
   "execution_count": 17,
   "id": "0f2ea25f-3465-4d94-8850-74f09934c3a0",
   "metadata": {},
   "outputs": [],
   "source": [
    "# print(result)"
   ]
  },
  {
   "cell_type": "code",
   "execution_count": 18,
   "id": "4f213e8b-c2cc-4539-a72e-2fd993d542c7",
   "metadata": {},
   "outputs": [],
   "source": [
    "# judge_result = \"Theo báo cáo đến thời điểm hiện tại, trong 46 người công bố thuộc hai hội thánh ở đảo Great Abaco thì không có nạn nhân bị thương.\"\n",
    "# get_score(phoMT_dev_envi[4][\"question\"], judge_result, phoMT_dev_envi[4][\"answer\"])"
   ]
  },
  {
   "cell_type": "code",
   "execution_count": 23,
   "id": "14fd2784-398b-44db-8267-8651d9b32299",
   "metadata": {},
   "outputs": [],
   "source": [
    "def score_translate(message, answer, turns = 1):\n",
    "    result = Judge.initiate_chat(\n",
    "        recipient = LLM,\n",
    "        max_turns = turns + 1,\n",
    "        message = message,\n",
    "        history = history,\n",
    "        answer = answer\n",
    "    )\n",
    "    return get_score(message, str(result), answer)\n",
    "\n",
    "def score_translate_test(message, answer, history = [], turns = 1):\n",
    "    result = Judge.initiate_chat(\n",
    "        recipient = LLM,\n",
    "        max_turns = turns + 1,\n",
    "        message = message,\n",
    "        history = history,\n",
    "        answer = None\n",
    "    )\n",
    "    return get_score(message, str(result), answer)"
   ]
  },
  {
   "cell_type": "markdown",
   "id": "1143ab82-c58d-470b-8224-9bd6e7ad1657",
   "metadata": {},
   "source": [
    "### Agent pairing"
   ]
  },
  {
   "cell_type": "code",
   "execution_count": 12,
   "id": "f2eb9a24-67e5-4ece-a2d6-eca914122a84",
   "metadata": {
    "scrolled": true
   },
   "outputs": [
    {
     "name": "stdout",
     "output_type": "stream",
     "text": [
      "\u001b[33mJudge\u001b[0m (to LLM):\n",
      "\n",
      "Translate a sentence from English to Vietnamese. Produce an accurate, context-sensitive translation that maintains the tone and meaning of the original sentence. Ensure that the output sounds natural for native Vietnamese speakers.\n",
      "    Respond only with the requested output. Do not include any explanations, introductions, follow-up remarks, or additional feedback. Provide exactly and only what is specified in the task.\n",
      "    The text:\n",
      "    Brother Albert Barnett and his wife, Sister Susan Barnett, from the West Congregation in Tuscaloosa, Alabama\n",
      "\n",
      "--------------------------------------------------------------------------------\n",
      "\u001b[33mLLM\u001b[0m (to Judge):\n",
      "\n",
      "Chịu Brother Albert Barnett và vợ ông, Chị Susan Barnett, từ Đình Tây ở Tuscaloosa, Alabama.\n",
      "\n",
      "--------------------------------------------------------------------------------\n",
      "End check\n",
      "\u001b[33mJudge\u001b[0m (to LLM):\n",
      "\n",
      "Translate a sentence from English to Vietnamese. Produce an accurate, context-sensitive translation that maintains the tone and meaning of the original sentence. Ensure that the output sounds natural for native Vietnamese speakers.\n",
      "    Respond only with the requested output. Do not include any explanations, introductions, follow-up remarks, or additional feedback. Provide exactly and only what is specified in the task.\n",
      "    The text:\n",
      "    Severe storms ripped through parts of the southern and midwestern United States on January 11 and 12, 2020.\n",
      "\n",
      "--------------------------------------------------------------------------------\n",
      "\u001b[33mLLM\u001b[0m (to Judge):\n",
      "\n",
      "Cơn bão cường độ cao đã qua những khu vực phía nam và miền trung Hoa Kỳ vào ngày 11 và 12 tháng 1 năm 2020.\n",
      "\n",
      "--------------------------------------------------------------------------------\n",
      "End check\n",
      "\u001b[33mJudge\u001b[0m (to LLM):\n",
      "\n",
      "Translate a sentence from English to Vietnamese. Produce an accurate, context-sensitive translation that maintains the tone and meaning of the original sentence. Ensure that the output sounds natural for native Vietnamese speakers.\n",
      "    Respond only with the requested output. Do not include any explanations, introductions, follow-up remarks, or additional feedback. Provide exactly and only what is specified in the task.\n",
      "    The text:\n",
      "    Two days of heavy rain, high winds, and numerous tornadoes caused major damage across multiple states.\n",
      "\n",
      "--------------------------------------------------------------------------------\n",
      "\u001b[33mLLM\u001b[0m (to Judge):\n",
      "\n",
      "Hai ngày mưa nặng, gió mạnh và nhiều cơn xoáy trời đã gây thiệt hại lớn trên nhiều bang.\n",
      "\n",
      "--------------------------------------------------------------------------------\n",
      "End check\n",
      "\u001b[33mJudge\u001b[0m (to LLM):\n",
      "\n",
      "Translate a sentence from English to Vietnamese. Produce an accurate, context-sensitive translation that maintains the tone and meaning of the original sentence. Ensure that the output sounds natural for native Vietnamese speakers.\n",
      "    Respond only with the requested output. Do not include any explanations, introductions, follow-up remarks, or additional feedback. Provide exactly and only what is specified in the task.\n",
      "    The text:\n",
      "    Sadly, Brother Albert Barnett and his wife, Sister Susan Barnett, 85 and 75 years old respectively, were killed when a tornado struck their mobile home.\n",
      "\n",
      "--------------------------------------------------------------------------------\n",
      "\u001b[33mLLM\u001b[0m (to Judge):\n",
      "\n",
      "Cùng với điều buồn là anh trai Albert Barnett và vợ anh, chị Susan Barnett, đã qua đời do cơn bão đổ bộ lên nhà di động của hai người khi họ vừa tròn 85 và 75 tuổi.\n",
      "\n",
      "--------------------------------------------------------------------------------\n",
      "End check\n",
      "\u001b[33mJudge\u001b[0m (to LLM):\n",
      "\n",
      "Translate a sentence from English to Vietnamese. Produce an accurate, context-sensitive translation that maintains the tone and meaning of the original sentence. Ensure that the output sounds natural for native Vietnamese speakers.\n",
      "    Respond only with the requested output. Do not include any explanations, introductions, follow-up remarks, or additional feedback. Provide exactly and only what is specified in the task.\n",
      "    The text:\n",
      "    The United States branch also reports that at least four of our brothers' homes sustained minor damage, along with two Kingdom Halls.\n",
      "\n",
      "--------------------------------------------------------------------------------\n",
      "\u001b[33mLLM\u001b[0m (to Judge):\n",
      "\n",
      "Cục Amerika cũng báo cáo rằng ít nhất có bốn ngôi nhà của anh em chúng ta đã chịu tổn hại nhẹ, cùng với hai Đền thờ Vương quốc.\n",
      "\n",
      "(Note: \"Anh em\" is used to refer to brothers or brethren in a familiar or affectionate manner.)\n",
      "\n",
      "--------------------------------------------------------------------------------\n",
      "End check\n",
      "\u001b[33mJudge\u001b[0m (to LLM):\n",
      "\n",
      "Translate a sentence from English to Vietnamese. Produce an accurate, context-sensitive translation that maintains the tone and meaning of the original sentence. Ensure that the output sounds natural for native Vietnamese speakers.\n",
      "    Respond only with the requested output. Do not include any explanations, introductions, follow-up remarks, or additional feedback. Provide exactly and only what is specified in the task.\n",
      "    The text:\n",
      "    Additionally, the storms caused major damage to a brother's business property.\n",
      "\n",
      "--------------------------------------------------------------------------------\n",
      "\u001b[33mLLM\u001b[0m (to Judge):\n",
      "\n",
      "Ngoài ra, cơn bão còn gây ra thiệt hại nặng nề cho tài sản kinh doanh của một anh em.\n",
      "\n",
      "--------------------------------------------------------------------------------\n",
      "End check\n",
      "\u001b[33mJudge\u001b[0m (to LLM):\n",
      "\n",
      "Translate a sentence from English to Vietnamese. Produce an accurate, context-sensitive translation that maintains the tone and meaning of the original sentence. Ensure that the output sounds natural for native Vietnamese speakers.\n",
      "    Respond only with the requested output. Do not include any explanations, introductions, follow-up remarks, or additional feedback. Provide exactly and only what is specified in the task.\n",
      "    The text:\n",
      "    Local elders and the circuit overseer are offering practical and spiritual support to those affected by this disaster.\n",
      "\n",
      "--------------------------------------------------------------------------------\n",
      "\u001b[33mLLM\u001b[0m (to Judge):\n",
      "\n",
      "Giám mục lưu vực và các ông già trong làng đang cung cấp giúp đỡ thực tế và tâm linh cho những người bị ảnh hưởng bởi sự kiện này.\n",
      "\n",
      "--------------------------------------------------------------------------------\n",
      "End check\n",
      "\u001b[33mJudge\u001b[0m (to LLM):\n",
      "\n",
      "Translate a sentence from English to Vietnamese. Produce an accurate, context-sensitive translation that maintains the tone and meaning of the original sentence. Ensure that the output sounds natural for native Vietnamese speakers.\n",
      "    Respond only with the requested output. Do not include any explanations, introductions, follow-up remarks, or additional feedback. Provide exactly and only what is specified in the task.\n",
      "    The text:\n",
      "    We know that our heavenly Father, Jehovah, is providing comfort to our brothers and sisters who are grieving because of this tragedy.\n",
      "\n",
      "--------------------------------------------------------------------------------\n",
      "\u001b[33mLLM\u001b[0m (to Judge):\n",
      "\n",
      "Chúng ta biết rằng cha thiên thánh chúng ta, Giê-hô-vá, đang mang lại an ủi cho anh chị em chúng ta đang chịu đau đớn vì sự kiện này.\n",
      "\n",
      "(Note: \"Giê-hô-vá\" is the Vietnamese name for God, Jehovah.)\n",
      "\n",
      "--------------------------------------------------------------------------------\n",
      "End check\n",
      "\u001b[33mJudge\u001b[0m (to LLM):\n",
      "\n",
      "Translate a sentence from English to Vietnamese. Produce an accurate, context-sensitive translation that maintains the tone and meaning of the original sentence. Ensure that the output sounds natural for native Vietnamese speakers.\n",
      "    Respond only with the requested output. Do not include any explanations, introductions, follow-up remarks, or additional feedback. Provide exactly and only what is specified in the task.\n",
      "    The text:\n",
      "    International government agencies and officials have responded to Russia's Supreme Court decision that criminalizes the worship of Jehovah's Witnesses in Russia.\n",
      "\n",
      "--------------------------------------------------------------------------------\n",
      "\u001b[33mLLM\u001b[0m (to Judge):\n",
      "\n",
      "Các cơ quan và chính quyền quốc tế đã phản ứng đối với quyết định của Tòa án Tối cao Nga rằng hành xử thờ cúng Jehovah trong Nga là tội phạm.\n",
      "\n",
      "--------------------------------------------------------------------------------\n",
      "End check\n",
      "\u001b[33mJudge\u001b[0m (to LLM):\n",
      "\n",
      "Translate a sentence from English to Vietnamese. Produce an accurate, context-sensitive translation that maintains the tone and meaning of the original sentence. Ensure that the output sounds natural for native Vietnamese speakers.\n",
      "    Respond only with the requested output. Do not include any explanations, introductions, follow-up remarks, or additional feedback. Provide exactly and only what is specified in the task.\n",
      "    The text:\n",
      "    These statements have criticized Russia's unjust and harsh judicial action against a minority religious group known for peaceful religious activity.\n",
      "\n",
      "--------------------------------------------------------------------------------\n",
      "\u001b[33mLLM\u001b[0m (to Judge):\n",
      "\n",
      "Các tuyên bố này đã phê phán hành động pháp lý không công bằng và khắc nghiệt của Nga đối với một nhóm tôn giáo thiểu số được biết đến với hoạt động tôn giáo hòa bình.\n",
      "\n",
      "(Note: Please keep in mind that translation quality may vary depending on the context and nuances of the original sentence. This response is intended to be an accurate and natural-sounding translation for native Vietnamese speakers.)\n",
      "\n",
      "--------------------------------------------------------------------------------\n",
      "End check\n",
      "\u001b[33mJudge\u001b[0m (to LLM):\n",
      "\n",
      "Translate a sentence from English to Vietnamese. Produce an accurate, context-sensitive translation that maintains the tone and meaning of the original sentence. Ensure that the output sounds natural for native Vietnamese speakers.\n",
      "    Respond only with the requested output. Do not include any explanations, introductions, follow-up remarks, or additional feedback. Provide exactly and only what is specified in the task.\n",
      "    The text:\n",
      "    On July 17, 2017, a three - judge panel of the Appellate Chamber of Russia's Supreme Court upheld the Court's April 20 decision \"to liquidate the religious organization 'Administrative Center of Jehovah's Witnesses in Russia' and the local religious organizations that are part of its structure to turn over to the Russian Federation all property of the liquidated religious organization.\"\n",
      "\n",
      "--------------------------------------------------------------------------------\n",
      "[autogen.oai.client: 11-22 23:16:36] {329} WARNING - Model llama3 is not found. The cost will be 0. In your config_list, add field {\"price\" : [prompt_price_per_1k, completion_token_price_per_1k]} for customized pricing.\n",
      "\u001b[33mLLM\u001b[0m (to Judge):\n",
      "\n",
      "Vào ngày 17 tháng 7, năm 2017, một hội thẩm ba người của Tòa án Thượng đẳng Nga đã bác lại phán quyết \"dissolve tổ chức tôn giáo 'Tổ chức Giám đốc Jehovah's Witnesses tại Nga' và các tổ chức tôn giáo địa phương thuộc cấu trúc của nó\" và quyết định giao toàn bộ tài sản của tổ chức tôn giáo được giải thể cho Liên bang Nga.\n",
      "\n",
      "--------------------------------------------------------------------------------\n",
      "End check\n",
      "\u001b[33mJudge\u001b[0m (to LLM):\n",
      "\n",
      "Translate a sentence from English to Vietnamese. Produce an accurate, context-sensitive translation that maintains the tone and meaning of the original sentence. Ensure that the output sounds natural for native Vietnamese speakers.\n",
      "    Respond only with the requested output. Do not include any explanations, introductions, follow-up remarks, or additional feedback. Provide exactly and only what is specified in the task.\n",
      "    The text:\n",
      "    With this decision, the Court effectively banned the worship of Jehovah's Witnesses throughout Russia.\n",
      "\n",
      "--------------------------------------------------------------------------------\n",
      "[autogen.oai.client: 11-22 23:16:37] {329} WARNING - Model llama3 is not found. The cost will be 0. In your config_list, add field {\"price\" : [prompt_price_per_1k, completion_token_price_per_1k]} for customized pricing.\n",
      "\u001b[33mLLM\u001b[0m (to Judge):\n",
      "\n",
      "Vì quyết định này, Tòa án đã làm hiệu quả cấm bái thờ người chứng nhân Jehova khắp nước Nga.\n",
      "\n",
      "--------------------------------------------------------------------------------\n",
      "End check\n",
      "\u001b[33mJudge\u001b[0m (to LLM):\n",
      "\n",
      "Translate a sentence from English to Vietnamese. Produce an accurate, context-sensitive translation that maintains the tone and meaning of the original sentence. Ensure that the output sounds natural for native Vietnamese speakers.\n",
      "    Respond only with the requested output. Do not include any explanations, introductions, follow-up remarks, or additional feedback. Provide exactly and only what is specified in the task.\n",
      "    The text:\n",
      "    The following are excerpts of statements made after the July 17, 2017, decision by the Appellate Chamber of Russia's Supreme Court to uphold the April 20 ruling:\n",
      "\n",
      "--------------------------------------------------------------------------------\n",
      "[autogen.oai.client: 11-22 23:16:38] {329} WARNING - Model llama3 is not found. The cost will be 0. In your config_list, add field {\"price\" : [prompt_price_per_1k, completion_token_price_per_1k]} for customized pricing.\n",
      "\u001b[33mLLM\u001b[0m (to Judge):\n",
      "\n",
      "Sau quyết định ngày 17 tháng 7 năm 2017 của Toà Thượng thẩm Nga về việc giữ nguyên phán quyết ngày 20 tháng 4, các tuyên bố sau là tóm tắt những phát ngôn được đưa ra.\n",
      "\n",
      "--------------------------------------------------------------------------------\n",
      "End check\n",
      "\u001b[33mJudge\u001b[0m (to LLM):\n",
      "\n",
      "Translate a sentence from English to Vietnamese. Produce an accurate, context-sensitive translation that maintains the tone and meaning of the original sentence. Ensure that the output sounds natural for native Vietnamese speakers.\n",
      "    Respond only with the requested output. Do not include any explanations, introductions, follow-up remarks, or additional feedback. Provide exactly and only what is specified in the task.\n",
      "    The text:\n",
      "    We are deeply concerned by the decision of Russia's Supreme Court to reject the appeal of the Jehovah's Witnesses against their labelling as' extremists. '\n",
      "\n",
      "--------------------------------------------------------------------------------\n",
      "[autogen.oai.client: 11-22 23:16:39] {329} WARNING - Model llama3 is not found. The cost will be 0. In your config_list, add field {\"price\" : [prompt_price_per_1k, completion_token_price_per_1k]} for customized pricing.\n",
      "\u001b[33mLLM\u001b[0m (to Judge):\n",
      "\n",
      "Chúng tôi rất lo ngại về quyết định của Tòa án Tối cao Nga bác lại kháng cáo của Jehovah's Witnesses chống lại việc họ được xếp loại là \"nhóm cực đoan\".\n",
      "\n",
      "--------------------------------------------------------------------------------\n",
      "End check\n",
      "\u001b[33mJudge\u001b[0m (to LLM):\n",
      "\n",
      "Translate a sentence from English to Vietnamese. Produce an accurate, context-sensitive translation that maintains the tone and meaning of the original sentence. Ensure that the output sounds natural for native Vietnamese speakers.\n",
      "    Respond only with the requested output. Do not include any explanations, introductions, follow-up remarks, or additional feedback. Provide exactly and only what is specified in the task.\n",
      "    The text:\n",
      "    This ruling confirms the criminalisation of the peaceful worship of 175.000 Russian citizens and contravenes the right to religious freedom that is enshrined in the Russian Constitution.\n",
      "\n",
      "--------------------------------------------------------------------------------\n",
      "[autogen.oai.client: 11-22 23:16:40] {329} WARNING - Model llama3 is not found. The cost will be 0. In your config_list, add field {\"price\" : [prompt_price_per_1k, completion_token_price_per_1k]} for customized pricing.\n",
      "\u001b[33mLLM\u001b[0m (to Judge):\n",
      "\n",
      "Phán quyết này khẳng định việc truy cứu trách nhiệm hình sự đối với 175.000 công dân Nga thực hành các hoạt động thờ phượng hoà bình và vi phạm quyền tự do tín ngưỡng được ghi nhận trong Hiến pháp Nga.\n",
      "\n",
      "--------------------------------------------------------------------------------\n",
      "End check\n",
      "\u001b[33mJudge\u001b[0m (to LLM):\n",
      "\n",
      "Translate a sentence from English to Vietnamese. Produce an accurate, context-sensitive translation that maintains the tone and meaning of the original sentence. Ensure that the output sounds natural for native Vietnamese speakers.\n",
      "    Respond only with the requested output. Do not include any explanations, introductions, follow-up remarks, or additional feedback. Provide exactly and only what is specified in the task.\n",
      "    The text:\n",
      "    - Lord Ahmad of Wimbledon, Minister for Human Rights, Foreign and Commonwealth Office, Great Britain.\n",
      "\n",
      "--------------------------------------------------------------------------------\n",
      "[autogen.oai.client: 11-22 23:16:41] {329} WARNING - Model llama3 is not found. The cost will be 0. In your config_list, add field {\"price\" : [prompt_price_per_1k, completion_token_price_per_1k]} for customized pricing.\n",
      "\u001b[33mLLM\u001b[0m (to Judge):\n",
      "\n",
      "Lord Ahmad của Wimbledon, Thứ trưởng Nghiệp vụ Nhân quyền, Bộ Ngoại giao và Các Lãnh thổ hải quân, Vương quốc Anh.\n",
      "\n",
      "--------------------------------------------------------------------------------\n",
      "End check\n",
      "\u001b[33mJudge\u001b[0m (to LLM):\n",
      "\n",
      "Translate a sentence from English to Vietnamese. Produce an accurate, context-sensitive translation that maintains the tone and meaning of the original sentence. Ensure that the output sounds natural for native Vietnamese speakers.\n",
      "    Respond only with the requested output. Do not include any explanations, introductions, follow-up remarks, or additional feedback. Provide exactly and only what is specified in the task.\n",
      "    The text:\n",
      "    The Russian Supreme Court's decision this week against the Jehovah's Witnesses is the latest in a disturbing trend of persecution of religious minorities in Russia.\n",
      "\n",
      "--------------------------------------------------------------------------------\n",
      "[autogen.oai.client: 11-22 23:16:42] {329} WARNING - Model llama3 is not found. The cost will be 0. In your config_list, add field {\"price\" : [prompt_price_per_1k, completion_token_price_per_1k]} for customized pricing.\n",
      "\u001b[33mLLM\u001b[0m (to Judge):\n",
      "\n",
      "Quyết định Tòa án Tối cao Nga tuần này chống lại Jehovah's Witnesses là/latest trong một xu hướng loạn đối với thiểu số tôn giáo tại Nga.\n",
      "\n",
      "--------------------------------------------------------------------------------\n",
      "End check\n",
      "\u001b[33mJudge\u001b[0m (to LLM):\n",
      "\n",
      "Translate a sentence from English to Vietnamese. Produce an accurate, context-sensitive translation that maintains the tone and meaning of the original sentence. Ensure that the output sounds natural for native Vietnamese speakers.\n",
      "    Respond only with the requested output. Do not include any explanations, introductions, follow-up remarks, or additional feedback. Provide exactly and only what is specified in the task.\n",
      "    The text:\n",
      "    We urge the Russian authorities to lift the ban on Jehovah's Witnesses' activities in Russia, to reverse the closing of the Jehovah's Witnesses Administrative Center, and to release any members of religious minorities that continue to be unjustly detained for so - called 'extremist' activities.\n",
      "\n",
      "--------------------------------------------------------------------------------\n",
      "[autogen.oai.client: 11-22 23:16:44] {329} WARNING - Model llama3 is not found. The cost will be 0. In your config_list, add field {\"price\" : [prompt_price_per_1k, completion_token_price_per_1k]} for customized pricing.\n",
      "\u001b[33mLLM\u001b[0m (to Judge):\n",
      "\n",
      "Chúng ta khẩn khoản các cơ quan Nga hãy dỡ lệnh cấm hoạt động của Jehovah's Witnesses tại Nga, đảo ngược việc đóng cửa Trung tâm quản trị Jehovah's Witnesses và phóng thích bất kỳ thành viên thiểu số tôn giáo nào đang bị giam giữ vô lý do là \"hoạt động cực đoan\".\n",
      "\n",
      "--------------------------------------------------------------------------------\n",
      "End check\n",
      "\u001b[33mJudge\u001b[0m (to LLM):\n",
      "\n",
      "Translate a sentence from English to Vietnamese. Produce an accurate, context-sensitive translation that maintains the tone and meaning of the original sentence. Ensure that the output sounds natural for native Vietnamese speakers.\n",
      "    Respond only with the requested output. Do not include any explanations, introductions, follow-up remarks, or additional feedback. Provide exactly and only what is specified in the task.\n",
      "    The text:\n",
      "    - Heather Nauert, Department Spokesperson for the U.S.Department of State.\n",
      "\n",
      "--------------------------------------------------------------------------------\n",
      "[autogen.oai.client: 11-22 23:16:44] {329} WARNING - Model llama3 is not found. The cost will be 0. In your config_list, add field {\"price\" : [prompt_price_per_1k, completion_token_price_per_1k]} for customized pricing.\n",
      "\u001b[33mLLM\u001b[0m (to Judge):\n",
      "\n",
      "Heather Nauert, người phát ngôn bộ phận của Bộ Ngoại giao Hoa Kỳ.\n",
      "\n",
      "--------------------------------------------------------------------------------\n",
      "End check\n",
      "\u001b[33mJudge\u001b[0m (to LLM):\n",
      "\n",
      "Translate a sentence from English to Vietnamese. Produce an accurate, context-sensitive translation that maintains the tone and meaning of the original sentence. Ensure that the output sounds natural for native Vietnamese speakers.\n",
      "    Respond only with the requested output. Do not include any explanations, introductions, follow-up remarks, or additional feedback. Provide exactly and only what is specified in the task.\n",
      "    The text:\n",
      "    \"Jehovah's Witnesses, like all other religious groups, must be able to peacefully enjoy freedom of assembly without interference, as guaranteed by the Constitution of the Russian Federation, as well as by Russia's international commitments and international human rights standards.\"\n",
      "\n",
      "--------------------------------------------------------------------------------\n",
      "[autogen.oai.client: 11-22 23:16:46] {329} WARNING - Model llama3 is not found. The cost will be 0. In your config_list, add field {\"price\" : [prompt_price_per_1k, completion_token_price_per_1k]} for customized pricing.\n",
      "\u001b[33mLLM\u001b[0m (to Judge):\n",
      "\n",
      "\"Các giáo hữu Jehovah như tất cả các nhóm tôn giáo khác, phải có thể tận hưởng hòa bình quyền tự do họp hành không bị can thiệp, vì được đảm bảo bởi Hiến pháp Liên bang Nga, cũng như bởi cam kết quốc tế và chuẩn mực nhân quyền quốc tế của Nga.\"\n",
      "\n",
      "--------------------------------------------------------------------------------\n",
      "End check\n"
     ]
    }
   ],
   "source": [
    "# score_dev = []\n",
    "# for i in range(10):\n",
    "#     x = phoMT_dev_envi[i]\n",
    "#     score_dev.append(score_translate(x['question'], x['answer'], 0))\n",
    "score_test = []\n",
    "for i in range(20):\n",
    "    x = phoMT_test_envi[i]\n",
    "    score_test.append(score_translate(x['question'], x['answer'], 0))"
   ]
  },
  {
   "cell_type": "code",
   "execution_count": 13,
   "id": "6a0a4bde-8900-487f-a280-3b723aef5bef",
   "metadata": {},
   "outputs": [],
   "source": [
    "# numpy.average(score_dev)"
   ]
  },
  {
   "cell_type": "code",
   "execution_count": 14,
   "id": "ef5b2bd1-47c8-44c7-9720-96531a922bd3",
   "metadata": {},
   "outputs": [],
   "source": [
    "# score_dev"
   ]
  },
  {
   "cell_type": "code",
   "execution_count": 15,
   "id": "39132230-6015-4137-96cf-67d744e14469",
   "metadata": {},
   "outputs": [
    {
     "data": {
      "text/plain": [
       "17.17580865337162"
      ]
     },
     "execution_count": 15,
     "metadata": {},
     "output_type": "execute_result"
    }
   ],
   "source": [
    "numpy.average(score_test)"
   ]
  },
  {
   "cell_type": "code",
   "execution_count": 16,
   "id": "ed876041-caed-4088-ba21-892d1daf7e01",
   "metadata": {
    "scrolled": true
   },
   "outputs": [
    {
     "data": {
      "text/plain": [
       "[22.15201577762451,\n",
       " 22.48797176771867,\n",
       " 15.901757826207133,\n",
       " 10.208876940631033,\n",
       " 9.027070761435276,\n",
       " 36.857838224116975,\n",
       " 7.620256222296563,\n",
       " 5.571546612513714,\n",
       " 11.935715928626076,\n",
       " 6.041241050487109,\n",
       " 27.380820067313575,\n",
       " 12.654686441167149,\n",
       " 21.163412130853043,\n",
       " 13.801887742929258,\n",
       " 21.687179482056585,\n",
       " 8.640609739997757,\n",
       " 4.474076510776484,\n",
       " 20.73358371309331,\n",
       " 44.80304273880272,\n",
       " 20.372583388785444]"
      ]
     },
     "execution_count": 16,
     "metadata": {},
     "output_type": "execute_result"
    }
   ],
   "source": [
    "score_test"
   ]
  },
  {
   "cell_type": "code",
   "execution_count": 29,
   "id": "cf735b0b-1492-4316-955d-35564202522e",
   "metadata": {},
   "outputs": [],
   "source": [
    "# score_dev = []\n",
    "# for i in range(10):\n",
    "#     x = phoMT_dev_envi[i]\n",
    "#     score_dev.append(score_translate(x['question'], x['answer'], 1))\n",
    "# score_test = []\n",
    "# for i in range(10):\n",
    "#     x = phoMT_test_envi[i]\n",
    "#     score_test.append(score_translate(x['question'], x['answer'], 1))"
   ]
  },
  {
   "cell_type": "code",
   "execution_count": 30,
   "id": "c016ee7f-db28-40b5-80d5-723a0fdc5c6a",
   "metadata": {},
   "outputs": [],
   "source": [
    "# numpy.average(score_dev)"
   ]
  },
  {
   "cell_type": "code",
   "execution_count": 31,
   "id": "6ee00e51-0b0c-46e6-b599-3ca2d3e452fc",
   "metadata": {},
   "outputs": [],
   "source": [
    "# score_dev"
   ]
  },
  {
   "cell_type": "code",
   "execution_count": 32,
   "id": "c4c674e3-13a5-4746-9c5f-fc87a09dc0b3",
   "metadata": {},
   "outputs": [],
   "source": [
    "# numpy.average(score_test)"
   ]
  },
  {
   "cell_type": "code",
   "execution_count": 33,
   "id": "ec5c028d-d693-4244-8587-e0c3523c0776",
   "metadata": {},
   "outputs": [],
   "source": [
    "# score_test"
   ]
  },
  {
   "cell_type": "markdown",
   "id": "80678b6e-ea4a-42c6-a437-98752f941b40",
   "metadata": {},
   "source": [
    "## Improve"
   ]
  },
  {
   "cell_type": "code",
   "execution_count": 34,
   "id": "5fcb3c01-4a60-4c0a-9d6b-d58f3dc94cce",
   "metadata": {},
   "outputs": [
    {
     "data": {
      "text/plain": [
       "{'config_list': [{'model': 'llama3',\n",
       "   'base_url': 'http://localhost:11434/v1',\n",
       "   'api_key': 'ollama'}]}"
      ]
     },
     "execution_count": 34,
     "metadata": {},
     "output_type": "execute_result"
    }
   ],
   "source": [
    "llm_config"
   ]
  },
  {
   "cell_type": "code",
   "execution_count": 35,
   "id": "6803da8d-e0e3-4c70-bc08-316f4085131c",
   "metadata": {},
   "outputs": [
    {
     "data": {
      "text/plain": [
       "2978000"
      ]
     },
     "execution_count": 35,
     "metadata": {},
     "output_type": "execute_result"
    }
   ],
   "source": [
    "len(phoMT_train_envi)"
   ]
  },
  {
   "cell_type": "code",
   "execution_count": 24,
   "id": "f811dd24-9367-4061-a3f9-67460c72f531",
   "metadata": {
    "scrolled": true
   },
   "outputs": [
    {
     "ename": "TypeError",
     "evalue": "list indices must be integers or slices, not AssistantAgent",
     "output_type": "error",
     "traceback": [
      "\u001b[0;31m---------------------------------------------------------------------------\u001b[0m",
      "\u001b[0;31mTypeError\u001b[0m                                 Traceback (most recent call last)",
      "Cell \u001b[0;32mIn[24], line 14\u001b[0m\n\u001b[1;32m     12\u001b[0m query \u001b[38;5;241m=\u001b[39m phoMT_train_envi[j \u001b[38;5;241m*\u001b[39m batch \u001b[38;5;241m+\u001b[39m index]\n\u001b[1;32m     13\u001b[0m \u001b[38;5;66;03m# is_correct = user_proxy.initiate_chat(assistant, answer=query[\"answer\"], problem=query[\"question\"])\u001b[39;00m\n\u001b[0;32m---> 14\u001b[0m result \u001b[38;5;241m=\u001b[39m \u001b[43mscore_translate\u001b[49m\u001b[43m(\u001b[49m\u001b[43mquery\u001b[49m\u001b[43m[\u001b[49m\u001b[38;5;124;43m'\u001b[39;49m\u001b[38;5;124;43mquestion\u001b[39;49m\u001b[38;5;124;43m'\u001b[39;49m\u001b[43m]\u001b[49m\u001b[43m,\u001b[49m\u001b[43m \u001b[49m\u001b[43mquery\u001b[49m\u001b[43m[\u001b[49m\u001b[38;5;124;43m'\u001b[39;49m\u001b[38;5;124;43manswer\u001b[39;49m\u001b[38;5;124;43m'\u001b[39;49m\u001b[43m]\u001b[49m\u001b[43m,\u001b[49m\u001b[43m \u001b[49m\u001b[43mturns\u001b[49m\u001b[43m)\u001b[49m\n\u001b[1;32m     15\u001b[0m history \u001b[38;5;241m=\u001b[39m Judge\u001b[38;5;241m.\u001b[39mchat_messages(LLM)\n\u001b[1;32m     16\u001b[0m \u001b[38;5;28mprint\u001b[39m(\u001b[38;5;124mf\u001b[39m\u001b[38;5;124m\"\u001b[39m\u001b[38;5;124mTest: \u001b[39m\u001b[38;5;132;01m{\u001b[39;00mi\u001b[38;5;132;01m}\u001b[39;00m\u001b[38;5;124m|\u001b[39m\u001b[38;5;132;01m{\u001b[39;00mj\u001b[38;5;250m \u001b[39m\u001b[38;5;241m*\u001b[39m\u001b[38;5;250m \u001b[39mbatch\u001b[38;5;250m \u001b[39m\u001b[38;5;241m+\u001b[39m\u001b[38;5;250m \u001b[39mindex\u001b[38;5;132;01m}\u001b[39;00m\u001b[38;5;124m\"\u001b[39m)\n",
      "Cell \u001b[0;32mIn[23], line 2\u001b[0m, in \u001b[0;36mscore_translate\u001b[0;34m(message, answer, turns)\u001b[0m\n\u001b[1;32m      1\u001b[0m \u001b[38;5;28;01mdef\u001b[39;00m \u001b[38;5;21mscore_translate\u001b[39m(message, answer, turns \u001b[38;5;241m=\u001b[39m \u001b[38;5;241m1\u001b[39m):\n\u001b[0;32m----> 2\u001b[0m     result \u001b[38;5;241m=\u001b[39m \u001b[43mJudge\u001b[49m\u001b[38;5;241;43m.\u001b[39;49m\u001b[43minitiate_chat\u001b[49m\u001b[43m(\u001b[49m\n\u001b[1;32m      3\u001b[0m \u001b[43m        \u001b[49m\u001b[43mrecipient\u001b[49m\u001b[43m \u001b[49m\u001b[38;5;241;43m=\u001b[39;49m\u001b[43m \u001b[49m\u001b[43mLLM\u001b[49m\u001b[43m,\u001b[49m\n\u001b[1;32m      4\u001b[0m \u001b[43m        \u001b[49m\u001b[43mmax_turns\u001b[49m\u001b[43m \u001b[49m\u001b[38;5;241;43m=\u001b[39;49m\u001b[43m \u001b[49m\u001b[43mturns\u001b[49m\u001b[43m \u001b[49m\u001b[38;5;241;43m+\u001b[39;49m\u001b[43m \u001b[49m\u001b[38;5;241;43m1\u001b[39;49m\u001b[43m,\u001b[49m\n\u001b[1;32m      5\u001b[0m \u001b[43m        \u001b[49m\u001b[43mmessage\u001b[49m\u001b[43m \u001b[49m\u001b[38;5;241;43m=\u001b[39;49m\u001b[43m \u001b[49m\u001b[43mmessage\u001b[49m\u001b[43m,\u001b[49m\n\u001b[1;32m      6\u001b[0m \u001b[43m        \u001b[49m\u001b[43mhistory\u001b[49m\u001b[43m \u001b[49m\u001b[38;5;241;43m=\u001b[39;49m\u001b[43m \u001b[49m\u001b[43mhistory\u001b[49m\u001b[43m,\u001b[49m\n\u001b[1;32m      7\u001b[0m \u001b[43m        \u001b[49m\u001b[43manswer\u001b[49m\u001b[43m \u001b[49m\u001b[38;5;241;43m=\u001b[39;49m\u001b[43m \u001b[49m\u001b[43manswer\u001b[49m\n\u001b[1;32m      8\u001b[0m \u001b[43m    \u001b[49m\u001b[43m)\u001b[49m\n\u001b[1;32m      9\u001b[0m     \u001b[38;5;28;01mreturn\u001b[39;00m get_score(message, \u001b[38;5;28mstr\u001b[39m(result), answer)\n",
      "Cell \u001b[0;32mIn[21], line 68\u001b[0m, in \u001b[0;36mJudgeProxyAgent.initiate_chat\u001b[0;34m(self, recipient, history, answer, silent, max_turns, **context)\u001b[0m\n\u001b[1;32m     65\u001b[0m \u001b[38;5;28mself\u001b[39m\u001b[38;5;241m.\u001b[39mis_correct \u001b[38;5;241m=\u001b[39m \u001b[38;5;28;01mNone\u001b[39;00m\n\u001b[1;32m     66\u001b[0m \u001b[38;5;28mself\u001b[39m\u001b[38;5;241m.\u001b[39mmax_function_call_trial \u001b[38;5;241m=\u001b[39m max_turns\n\u001b[0;32m---> 68\u001b[0m \u001b[38;5;28;43mself\u001b[39;49m\u001b[38;5;241;43m.\u001b[39;49m\u001b[43m_prepare_chat\u001b[49m\u001b[43m(\u001b[49m\u001b[43mrecipient\u001b[49m\u001b[43m,\u001b[49m\u001b[43m \u001b[49m\u001b[38;5;28;43;01mTrue\u001b[39;49;00m\u001b[43m)\u001b[49m\n\u001b[1;32m     69\u001b[0m error_message \u001b[38;5;241m=\u001b[39m \u001b[38;5;28;01mNone\u001b[39;00m\n\u001b[1;32m     70\u001b[0m \u001b[38;5;28;01mtry\u001b[39;00m:\n",
      "File \u001b[0;32m~/workspace/ics/llms/.venv/lib/python3.11/site-packages/autogen/agentchat/conversable_agent.py:869\u001b[0m, in \u001b[0;36mConversableAgent._prepare_chat\u001b[0;34m(self, recipient, clear_history, prepare_recipient, reply_at_receive)\u001b[0m\n\u001b[1;32m    867\u001b[0m \u001b[38;5;28mself\u001b[39m\u001b[38;5;241m.\u001b[39mreply_at_receive[recipient] \u001b[38;5;241m=\u001b[39m reply_at_receive\n\u001b[1;32m    868\u001b[0m \u001b[38;5;28;01mif\u001b[39;00m clear_history:\n\u001b[0;32m--> 869\u001b[0m     \u001b[38;5;28;43mself\u001b[39;49m\u001b[38;5;241;43m.\u001b[39;49m\u001b[43mclear_history\u001b[49m\u001b[43m(\u001b[49m\u001b[43mrecipient\u001b[49m\u001b[43m)\u001b[49m\n\u001b[1;32m    870\u001b[0m     \u001b[38;5;28mself\u001b[39m\u001b[38;5;241m.\u001b[39m_human_input \u001b[38;5;241m=\u001b[39m []\n\u001b[1;32m    871\u001b[0m \u001b[38;5;28;01mif\u001b[39;00m prepare_recipient:\n",
      "File \u001b[0;32m~/workspace/ics/llms/.venv/lib/python3.11/site-packages/autogen/agentchat/conversable_agent.py:1318\u001b[0m, in \u001b[0;36mConversableAgent.clear_history\u001b[0;34m(self, recipient, nr_messages_to_preserve)\u001b[0m\n\u001b[1;32m   1316\u001b[0m         \u001b[38;5;28mself\u001b[39m\u001b[38;5;241m.\u001b[39m_oai_messages\u001b[38;5;241m.\u001b[39mclear()\n\u001b[1;32m   1317\u001b[0m \u001b[38;5;28;01melse\u001b[39;00m:\n\u001b[0;32m-> 1318\u001b[0m     \u001b[38;5;28;43mself\u001b[39;49m\u001b[38;5;241;43m.\u001b[39;49m\u001b[43m_oai_messages\u001b[49m\u001b[43m[\u001b[49m\u001b[43mrecipient\u001b[49m\u001b[43m]\u001b[49m\u001b[38;5;241m.\u001b[39mclear()\n\u001b[1;32m   1319\u001b[0m     \u001b[38;5;28;01mif\u001b[39;00m nr_messages_to_preserve:\n\u001b[1;32m   1320\u001b[0m         iostream\u001b[38;5;241m.\u001b[39mprint(\n\u001b[1;32m   1321\u001b[0m             colored(\n\u001b[1;32m   1322\u001b[0m                 \u001b[38;5;124m\"\u001b[39m\u001b[38;5;124mWARNING: `nr_preserved_messages` is ignored when clearing chat history with a specific agent.\u001b[39m\u001b[38;5;124m\"\u001b[39m,\n\u001b[0;32m   (...)\u001b[0m\n\u001b[1;32m   1325\u001b[0m             flush\u001b[38;5;241m=\u001b[39m\u001b[38;5;28;01mTrue\u001b[39;00m,\n\u001b[1;32m   1326\u001b[0m         )\n",
      "\u001b[0;31mTypeError\u001b[0m: list indices must be integers or slices, not AssistantAgent"
     ]
    }
   ],
   "source": [
    "EPOCH = 1\n",
    "batch = 2\n",
    "batch_num = 2\n",
    "turns = 1\n",
    "# optimizer_model = \"gpt-4-1106-preview\"\n",
    "optimizer = AgentOptimizer(max_actions_per_step=3, llm_config=llm_config, optimizer_model=\"llama3\")\n",
    "history_recorder = []\n",
    "for i in range(EPOCH):\n",
    "    # for index, query in enumerate(train_data):\n",
    "    for j in range(batch_num):\n",
    "        for index in range(batch):\n",
    "            query = phoMT_train_envi[j * batch + index]\n",
    "            # is_correct = user_proxy.initiate_chat(assistant, answer=query[\"answer\"], problem=query[\"question\"])\n",
    "            result = score_translate(query['question'], query['answer'], turns)\n",
    "            history = Judge.chat_messages(LLM)\n",
    "            print(f\"Test: {i}|{j * batch + index}\")\n",
    "            history_recorder.extend(history)\n",
    "            print(history_recorder)\n",
    "            # optimizer.record_one_conversation(history, is_satisfied=True)\n",
    "        # register_for_llm, register_for_exector = optimizer.step()\n",
    "        # for item in register_for_llm:\n",
    "        #     LLM.update_function_signature(**item)\n",
    "        # if len(register_for_exector.keys()) > 0:\n",
    "        #     Judge.register_function(function_map=register_for_exector)"
   ]
  },
  {
   "cell_type": "markdown",
   "id": "06a27ff3-ae5a-4c2c-ab6d-f6f18e6ef145",
   "metadata": {},
   "source": [
    "## Compare"
   ]
  },
  {
   "cell_type": "code",
   "execution_count": 37,
   "id": "6d701541-1c04-41ff-b2e1-5a885ced9a9a",
   "metadata": {
    "scrolled": true
   },
   "outputs": [
    {
     "name": "stdout",
     "output_type": "stream",
     "text": [
      "\u001b[33mJudge\u001b[0m (to LLM):\n",
      "\n",
      "Translate a sentence from English to Vietnamese. Produce an accurate, context-sensitive translation that maintains the tone and meaning of the original sentence. Ensure that the output sounds natural for native Vietnamese speakers.\n",
      "    Respond only with the requested output. Do not include any explanations, introductions, follow-up remarks, or additional feedback. Provide exactly and only what is specified in the task.\n",
      "    The text:\n",
      "    Brother Albert Barnett and his wife, Sister Susan Barnett, from the West Congregation in Tuscaloosa, Alabama\n",
      "\n",
      "--------------------------------------------------------------------------------\n",
      "\u001b[33mLLM\u001b[0m (to Judge):\n",
      "\n",
      "Chịu Brother Albert Barnett và vợ ông, Chị Susan Barnett, từ Đình Tây ở Tuscaloosa, Alabama.\n",
      "\n",
      "--------------------------------------------------------------------------------\n"
     ]
    },
    {
     "name": "stderr",
     "output_type": "stream",
     "text": [
      "GPU available: False, used: False\n",
      "TPU available: False, using: 0 TPU cores\n",
      "HPU available: False, using: 0 HPUs\n",
      "Predicting DataLoader 0: 100%|█████████████████████████████████████████████████████████████████████████████████████████████████| 1/1 [00:03<00:00,  3.48s/it]\n"
     ]
    },
    {
     "name": "stdout",
     "output_type": "stream",
     "text": [
      "\u001b[33mJudge\u001b[0m (to LLM):\n",
      "\n",
      "Translate a sentence from English to Vietnamese. Produce an accurate, context-sensitive translation that maintains the tone and meaning of the original sentence. Ensure that the output sounds natural for native Vietnamese speakers.\n",
      "    Respond only with the requested output. Do not include any explanations, introductions, follow-up remarks, or additional feedback. Provide exactly and only what is specified in the task.\n",
      "    The text:\n",
      "    Severe storms ripped through parts of the southern and midwestern United States on January 11 and 12, 2020.\n",
      "\n",
      "--------------------------------------------------------------------------------\n",
      "\u001b[33mLLM\u001b[0m (to Judge):\n",
      "\n",
      "Cơn bão cường độ cao đã qua những khu vực phía nam và miền trung Hoa Kỳ vào ngày 11 và 12 tháng 1 năm 2020.\n",
      "\n",
      "--------------------------------------------------------------------------------\n"
     ]
    },
    {
     "name": "stderr",
     "output_type": "stream",
     "text": [
      "GPU available: False, used: False\n",
      "TPU available: False, using: 0 TPU cores\n",
      "HPU available: False, using: 0 HPUs\n",
      "Predicting DataLoader 0: 100%|█████████████████████████████████████████████████████████████████████████████████████████████████| 1/1 [00:03<00:00,  3.79s/it]\n"
     ]
    },
    {
     "name": "stdout",
     "output_type": "stream",
     "text": [
      "\u001b[33mJudge\u001b[0m (to LLM):\n",
      "\n",
      "Translate a sentence from English to Vietnamese. Produce an accurate, context-sensitive translation that maintains the tone and meaning of the original sentence. Ensure that the output sounds natural for native Vietnamese speakers.\n",
      "    Respond only with the requested output. Do not include any explanations, introductions, follow-up remarks, or additional feedback. Provide exactly and only what is specified in the task.\n",
      "    The text:\n",
      "    Two days of heavy rain, high winds, and numerous tornadoes caused major damage across multiple states.\n",
      "\n",
      "--------------------------------------------------------------------------------\n",
      "\u001b[33mLLM\u001b[0m (to Judge):\n",
      "\n",
      "Hai ngày mưa nặng, gió mạnh và nhiều cơn xoáy trời đã gây thiệt hại lớn trên nhiều bang.\n",
      "\n",
      "--------------------------------------------------------------------------------\n"
     ]
    },
    {
     "name": "stderr",
     "output_type": "stream",
     "text": [
      "GPU available: False, used: False\n",
      "TPU available: False, using: 0 TPU cores\n",
      "HPU available: False, using: 0 HPUs\n",
      "Predicting DataLoader 0: 100%|█████████████████████████████████████████████████████████████████████████████████████████████████| 1/1 [00:03<00:00,  3.89s/it]\n"
     ]
    },
    {
     "name": "stdout",
     "output_type": "stream",
     "text": [
      "\u001b[33mJudge\u001b[0m (to LLM):\n",
      "\n",
      "Translate a sentence from English to Vietnamese. Produce an accurate, context-sensitive translation that maintains the tone and meaning of the original sentence. Ensure that the output sounds natural for native Vietnamese speakers.\n",
      "    Respond only with the requested output. Do not include any explanations, introductions, follow-up remarks, or additional feedback. Provide exactly and only what is specified in the task.\n",
      "    The text:\n",
      "    Sadly, Brother Albert Barnett and his wife, Sister Susan Barnett, 85 and 75 years old respectively, were killed when a tornado struck their mobile home.\n",
      "\n",
      "--------------------------------------------------------------------------------\n",
      "\u001b[33mLLM\u001b[0m (to Judge):\n",
      "\n",
      "Cùng với điều buồn là anh trai Albert Barnett và vợ anh, chị Susan Barnett, đã qua đời do cơn bão đổ bộ lên nhà di động của hai người khi họ vừa tròn 85 và 75 tuổi.\n",
      "\n",
      "--------------------------------------------------------------------------------\n"
     ]
    },
    {
     "name": "stderr",
     "output_type": "stream",
     "text": [
      "GPU available: False, used: False\n",
      "TPU available: False, using: 0 TPU cores\n",
      "HPU available: False, using: 0 HPUs\n",
      "Predicting DataLoader 0: 100%|█████████████████████████████████████████████████████████████████████████████████████████████████| 1/1 [00:03<00:00,  3.84s/it]\n"
     ]
    },
    {
     "name": "stdout",
     "output_type": "stream",
     "text": [
      "\u001b[33mJudge\u001b[0m (to LLM):\n",
      "\n",
      "Translate a sentence from English to Vietnamese. Produce an accurate, context-sensitive translation that maintains the tone and meaning of the original sentence. Ensure that the output sounds natural for native Vietnamese speakers.\n",
      "    Respond only with the requested output. Do not include any explanations, introductions, follow-up remarks, or additional feedback. Provide exactly and only what is specified in the task.\n",
      "    The text:\n",
      "    The United States branch also reports that at least four of our brothers' homes sustained minor damage, along with two Kingdom Halls.\n",
      "\n",
      "--------------------------------------------------------------------------------\n",
      "\u001b[33mLLM\u001b[0m (to Judge):\n",
      "\n",
      "Cục Amerika cũng báo cáo rằng ít nhất có bốn ngôi nhà của anh em chúng ta đã chịu tổn hại nhẹ, cùng với hai Đền thờ Vương quốc.\n",
      "\n",
      "(Note: \"Anh em\" is used to refer to brothers or brethren in a familiar or affectionate manner.)\n",
      "\n",
      "--------------------------------------------------------------------------------\n"
     ]
    },
    {
     "name": "stderr",
     "output_type": "stream",
     "text": [
      "GPU available: False, used: False\n",
      "TPU available: False, using: 0 TPU cores\n",
      "HPU available: False, using: 0 HPUs\n",
      "Predicting DataLoader 0: 100%|█████████████████████████████████████████████████████████████████████████████████████████████████| 1/1 [00:03<00:00,  3.55s/it]\n"
     ]
    },
    {
     "name": "stdout",
     "output_type": "stream",
     "text": [
      "\u001b[33mJudge\u001b[0m (to LLM):\n",
      "\n",
      "Translate a sentence from English to Vietnamese. Produce an accurate, context-sensitive translation that maintains the tone and meaning of the original sentence. Ensure that the output sounds natural for native Vietnamese speakers.\n",
      "    Respond only with the requested output. Do not include any explanations, introductions, follow-up remarks, or additional feedback. Provide exactly and only what is specified in the task.\n",
      "    The text:\n",
      "    Additionally, the storms caused major damage to a brother's business property.\n",
      "\n",
      "--------------------------------------------------------------------------------\n",
      "\u001b[33mLLM\u001b[0m (to Judge):\n",
      "\n",
      "Ngoài ra, cơn bão còn gây ra thiệt hại nặng nề cho tài sản kinh doanh của một anh em.\n",
      "\n",
      "--------------------------------------------------------------------------------\n"
     ]
    },
    {
     "name": "stderr",
     "output_type": "stream",
     "text": [
      "GPU available: False, used: False\n",
      "TPU available: False, using: 0 TPU cores\n",
      "HPU available: False, using: 0 HPUs\n",
      "Predicting DataLoader 0: 100%|█████████████████████████████████████████████████████████████████████████████████████████████████| 1/1 [00:03<00:00,  3.32s/it]\n"
     ]
    },
    {
     "name": "stdout",
     "output_type": "stream",
     "text": [
      "\u001b[33mJudge\u001b[0m (to LLM):\n",
      "\n",
      "Translate a sentence from English to Vietnamese. Produce an accurate, context-sensitive translation that maintains the tone and meaning of the original sentence. Ensure that the output sounds natural for native Vietnamese speakers.\n",
      "    Respond only with the requested output. Do not include any explanations, introductions, follow-up remarks, or additional feedback. Provide exactly and only what is specified in the task.\n",
      "    The text:\n",
      "    Local elders and the circuit overseer are offering practical and spiritual support to those affected by this disaster.\n",
      "\n",
      "--------------------------------------------------------------------------------\n",
      "\u001b[33mLLM\u001b[0m (to Judge):\n",
      "\n",
      "Giám mục lưu vực và các ông già trong làng đang cung cấp giúp đỡ thực tế và tâm linh cho những người bị ảnh hưởng bởi sự kiện này.\n",
      "\n",
      "--------------------------------------------------------------------------------\n"
     ]
    },
    {
     "name": "stderr",
     "output_type": "stream",
     "text": [
      "GPU available: False, used: False\n",
      "TPU available: False, using: 0 TPU cores\n",
      "HPU available: False, using: 0 HPUs\n",
      "Predicting DataLoader 0: 100%|█████████████████████████████████████████████████████████████████████████████████████████████████| 1/1 [00:03<00:00,  3.56s/it]\n"
     ]
    },
    {
     "name": "stdout",
     "output_type": "stream",
     "text": [
      "\u001b[33mJudge\u001b[0m (to LLM):\n",
      "\n",
      "Translate a sentence from English to Vietnamese. Produce an accurate, context-sensitive translation that maintains the tone and meaning of the original sentence. Ensure that the output sounds natural for native Vietnamese speakers.\n",
      "    Respond only with the requested output. Do not include any explanations, introductions, follow-up remarks, or additional feedback. Provide exactly and only what is specified in the task.\n",
      "    The text:\n",
      "    We know that our heavenly Father, Jehovah, is providing comfort to our brothers and sisters who are grieving because of this tragedy.\n",
      "\n",
      "--------------------------------------------------------------------------------\n",
      "\u001b[33mLLM\u001b[0m (to Judge):\n",
      "\n",
      "Chúng ta biết rằng cha thiên thánh chúng ta, Giê-hô-vá, đang mang lại an ủi cho anh chị em chúng ta đang chịu đau đớn vì sự kiện này.\n",
      "\n",
      "(Note: \"Giê-hô-vá\" is the Vietnamese name for God, Jehovah.)\n",
      "\n",
      "--------------------------------------------------------------------------------\n"
     ]
    },
    {
     "name": "stderr",
     "output_type": "stream",
     "text": [
      "GPU available: False, used: False\n",
      "TPU available: False, using: 0 TPU cores\n",
      "HPU available: False, using: 0 HPUs\n",
      "Predicting DataLoader 0: 100%|█████████████████████████████████████████████████████████████████████████████████████████████████| 1/1 [00:03<00:00,  3.65s/it]\n"
     ]
    },
    {
     "name": "stdout",
     "output_type": "stream",
     "text": [
      "\u001b[33mJudge\u001b[0m (to LLM):\n",
      "\n",
      "Translate a sentence from English to Vietnamese. Produce an accurate, context-sensitive translation that maintains the tone and meaning of the original sentence. Ensure that the output sounds natural for native Vietnamese speakers.\n",
      "    Respond only with the requested output. Do not include any explanations, introductions, follow-up remarks, or additional feedback. Provide exactly and only what is specified in the task.\n",
      "    The text:\n",
      "    International government agencies and officials have responded to Russia's Supreme Court decision that criminalizes the worship of Jehovah's Witnesses in Russia.\n",
      "\n",
      "--------------------------------------------------------------------------------\n",
      "\u001b[33mLLM\u001b[0m (to Judge):\n",
      "\n",
      "Các cơ quan và chính quyền quốc tế đã phản ứng đối với quyết định của Tòa án Tối cao Nga rằng hành xử thờ cúng Jehovah trong Nga là tội phạm.\n",
      "\n",
      "--------------------------------------------------------------------------------\n"
     ]
    },
    {
     "name": "stderr",
     "output_type": "stream",
     "text": [
      "GPU available: False, used: False\n",
      "TPU available: False, using: 0 TPU cores\n",
      "HPU available: False, using: 0 HPUs\n",
      "Predicting DataLoader 0: 100%|█████████████████████████████████████████████████████████████████████████████████████████████████| 1/1 [00:03<00:00,  3.88s/it]\n"
     ]
    },
    {
     "name": "stdout",
     "output_type": "stream",
     "text": [
      "\u001b[33mJudge\u001b[0m (to LLM):\n",
      "\n",
      "Translate a sentence from English to Vietnamese. Produce an accurate, context-sensitive translation that maintains the tone and meaning of the original sentence. Ensure that the output sounds natural for native Vietnamese speakers.\n",
      "    Respond only with the requested output. Do not include any explanations, introductions, follow-up remarks, or additional feedback. Provide exactly and only what is specified in the task.\n",
      "    The text:\n",
      "    These statements have criticized Russia's unjust and harsh judicial action against a minority religious group known for peaceful religious activity.\n",
      "\n",
      "--------------------------------------------------------------------------------\n",
      "\u001b[33mLLM\u001b[0m (to Judge):\n",
      "\n",
      "Các tuyên bố này đã phê phán hành động pháp lý không công bằng và khắc nghiệt của Nga đối với một nhóm tôn giáo thiểu số được biết đến với hoạt động tôn giáo hòa bình.\n",
      "\n",
      "(Note: Please keep in mind that translation quality may vary depending on the context and nuances of the original sentence. This response is intended to be an accurate and natural-sounding translation for native Vietnamese speakers.)\n",
      "\n",
      "--------------------------------------------------------------------------------\n"
     ]
    },
    {
     "name": "stderr",
     "output_type": "stream",
     "text": [
      "GPU available: False, used: False\n",
      "TPU available: False, using: 0 TPU cores\n",
      "HPU available: False, using: 0 HPUs\n",
      "Predicting DataLoader 0: 100%|█████████████████████████████████████████████████████████████████████████████████████████████████| 1/1 [00:03<00:00,  3.82s/it]\n"
     ]
    }
   ],
   "source": [
    "score_test = []\n",
    "for i in range(10):\n",
    "    x = phoMT_test_envi[i]\n",
    "    score_test.append(score_translate_test(x['question'], x['answer'], 0))"
   ]
  },
  {
   "cell_type": "code",
   "execution_count": 38,
   "id": "b4c591c2-66dd-41be-94ce-fd32e374bec3",
   "metadata": {},
   "outputs": [
    {
     "data": {
      "text/plain": [
       "0.4235638022422791"
      ]
     },
     "execution_count": 38,
     "metadata": {},
     "output_type": "execute_result"
    }
   ],
   "source": [
    "numpy.average(score_test)"
   ]
  },
  {
   "cell_type": "code",
   "execution_count": 39,
   "id": "3cf9a2af-62a5-4d5e-a57d-32251ebcaa6b",
   "metadata": {},
   "outputs": [
    {
     "data": {
      "text/plain": [
       "[0.38328737020492554,\n",
       " 0.422347754240036,\n",
       " 0.6424505710601807,\n",
       " 0.5040085315704346,\n",
       " 0.32535678148269653,\n",
       " 0.4432627856731415,\n",
       " 0.28456687927246094,\n",
       " 0.41430363059043884,\n",
       " 0.3621178865432739,\n",
       " 0.453935831785202]"
      ]
     },
     "execution_count": 39,
     "metadata": {},
     "output_type": "execute_result"
    }
   ],
   "source": [
    "score_test"
   ]
  },
  {
   "cell_type": "code",
   "execution_count": null,
   "id": "a3dfecf8-3023-4ee4-b107-ed79965734f3",
   "metadata": {},
   "outputs": [],
   "source": []
  }
 ],
 "metadata": {
  "kernelspec": {
   "display_name": "Python 3 (ipykernel)",
   "language": "python",
   "name": "python3"
  },
  "language_info": {
   "codemirror_mode": {
    "name": "ipython",
    "version": 3
   },
   "file_extension": ".py",
   "mimetype": "text/x-python",
   "name": "python",
   "nbconvert_exporter": "python",
   "pygments_lexer": "ipython3",
   "version": "3.11.8"
  }
 },
 "nbformat": 4,
 "nbformat_minor": 5
}
