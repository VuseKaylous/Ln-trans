{
 "cells": [
  {
   "cell_type": "code",
   "execution_count": 1,
   "id": "798245f7-5222-4c13-b419-70ba0f3d9f4c",
   "metadata": {},
   "outputs": [],
   "source": [
    "import os\n",
    "import autogen\n",
    "from autogen import AssistantAgent, UserProxyAgent\n"
   ]
  },
  {
   "cell_type": "markdown",
   "id": "2f316492-992d-41a1-b553-cc6bb566c2c5",
   "metadata": {},
   "source": [
    "## Data"
   ]
  },
  {
   "cell_type": "code",
   "execution_count": 2,
   "id": "b572a599-f34b-4887-9cfe-0d23f6fc0acd",
   "metadata": {},
   "outputs": [],
   "source": [
    "def read_file(url):\n",
    "    file = open(url, \"r\")\n",
    "    data = file.read().split('\\n')\n",
    "    return data"
   ]
  },
  {
   "cell_type": "code",
   "execution_count": 4,
   "id": "d903a70f-b9d9-4402-b692-69f3da2b06d9",
   "metadata": {},
   "outputs": [
    {
     "data": {
      "text/plain": [
       "18720"
      ]
     },
     "execution_count": 4,
     "metadata": {},
     "output_type": "execute_result"
    }
   ],
   "source": [
    "len(read_file(\"data/PhoMT/detokenization/dev/dev.en\"))"
   ]
  },
  {
   "cell_type": "code",
   "execution_count": null,
   "id": "645968cc-9293-437f-b26e-12efc8de7393",
   "metadata": {},
   "outputs": [],
   "source": [
    "phoMT_dev_en = read_file(\"data/PhoMT/detokenization/dev/dev.en\")\n",
    "phoMT_dev_vi = read_file(\"data/PhoMT/detokenization/dev/dev.vi\")"
   ]
  },
  {
   "cell_type": "markdown",
   "id": "32e7ef31-82c9-406d-b7cc-9d16ed8aac52",
   "metadata": {},
   "source": [
    "## Autogen test"
   ]
  },
  {
   "cell_type": "code",
   "execution_count": 2,
   "id": "4253db2f-e055-4fec-9279-2679f07a53e2",
   "metadata": {},
   "outputs": [],
   "source": [
    "# llm_config = {\"model\": \"gpt-4\", \"api_key\": os.environ[\"OPENAI_API_KEY\"]}\n",
    "llm_config = {\n",
    "    \"model\": \"llama3\",\n",
    "    \"base_url\": \"http://localhost:11434/v1\",\n",
    "    \"api_key\": \"ollama\"\n",
    "}"
   ]
  },
  {
   "cell_type": "code",
   "execution_count": 3,
   "id": "437d6931-9bf7-41cd-a100-aa374e73ae70",
   "metadata": {},
   "outputs": [],
   "source": [
    "assistant = AssistantAgent(\"assistant\", llm_config=llm_config)\n",
    "\n",
    "user_proxy = UserProxyAgent(\n",
    "    \"user_proxy\", code_execution_config=False\n",
    ")"
   ]
  },
  {
   "cell_type": "code",
   "execution_count": 4,
   "id": "3f740608-a553-47b2-9641-b3dc41cc35c5",
   "metadata": {},
   "outputs": [
    {
     "name": "stdout",
     "output_type": "stream",
     "text": [
      "\u001b[33muser_proxy\u001b[0m (to assistant):\n",
      "\n",
      "Plot a chart of NVDA and TESLA stock price change YTD.\n",
      "\n",
      "--------------------------------------------------------------------------------\n",
      "[autogen.oai.client: 10-29 11:04:26] {329} WARNING - Model llama3 is not found. The cost will be 0. In your config_list, add field {\"price\" : [prompt_price_per_1k, completion_token_price_per_1k]} for customized pricing.\n",
      "\u001b[33massistant\u001b[0m (to user_proxy):\n",
      "\n",
      "To plot a chart of NVDA and TESLA stock price change YTD, I'll use Python's `yfinance` library to fetch the historical data and `matplotlib` to create the chart.\n",
      "\n",
      "**Step 1: Collect information**\n",
      "\n",
      "I need the stock tickers (NVDA and TESLA) and the year-to-date (YTD) time period. Let me print these out:\n",
      "\n",
      "```python\n",
      "import yfinance as yf\n",
      "\n",
      "print(\"NVDA ticker:\", NVDA)\n",
      "print(\"TESLA ticker:\", TESLA)\n",
      "print(\"YTD time period:\", \"2022-01-01 to 2023-02-20\")\n",
      "```\n",
      "\n",
      "**Step 2: Fetch historical data**\n",
      "\n",
      "I'll use `yfinance` to fetch the historical price data for both stocks:\n",
      "\n",
      "```python\n",
      "nvda_data = yf.download('NVDA', start='2022-01-01', end='2023-02-20')['Adj Close']\n",
      "tesla_data = yf.download('TESLA', start='2022-01-01', end='2023-02-20')['Adj Close']\n",
      "```\n",
      "\n",
      "**Step 3: Plot the chart**\n",
      "\n",
      "I'll use `matplotlib` to create a line chart showing the price change YTD:\n",
      "\n",
      "```python\n",
      "import matplotlib.pyplot as plt\n",
      "\n",
      "plt.figure(figsize=(10,6))\n",
      "plt.plot(nvda_data, label='NVDA')\n",
      "plt.plot(tesla_data, label='TESLA')\n",
      "plt.xlabel('Date')\n",
      "plt.ylabel('Adjusted Close Price (USD)')\n",
      "plt.title('NVDA and TESLA Stock Price Change YTD')\n",
      "plt.legend()\n",
      "plt.show()\n",
      "```\n",
      "\n",
      "Here's the code:\n",
      "\n",
      "```python\n",
      "# filename: plot_nvda_tesla_chart.py\n",
      "\n",
      "import yfinance as yf\n",
      "import matplotlib.pyplot as plt\n",
      "\n",
      "nvda_data = yf.download('NVDA', start='2022-01-01', end='2023-02-20')['Adj Close']\n",
      "tesla_data = yf.download('TESLA', start='2022-01-01', end='2023-02-20')['Adj Close']\n",
      "\n",
      "plt.figure(figsize=(10,6))\n",
      "plt.plot(nvda_data, label='NVDA')\n",
      "plt.plot(tesla_data, label='TESLA')\n",
      "plt.xlabel('Date')\n",
      "plt.ylabel('Adjusted Close Price (USD)')\n",
      "plt.title('NVDA and TESLA Stock Price Change YTD')\n",
      "plt.legend()\n",
      "plt.show()\n",
      "\n",
      "TERMINATE\n",
      "\n",
      "--------------------------------------------------------------------------------\n"
     ]
    },
    {
     "name": "stdin",
     "output_type": "stream",
     "text": [
      "Provide feedback to assistant. Press enter to skip and use auto-reply, or type 'exit' to end the conversation:  exit\n"
     ]
    },
    {
     "data": {
      "text/plain": [
       "ChatResult(chat_id=None, chat_history=[{'content': 'Plot a chart of NVDA and TESLA stock price change YTD.', 'role': 'assistant'}, {'content': 'To plot a chart of NVDA and TESLA stock price change YTD, I\\'ll use Python\\'s `yfinance` library to fetch the historical data and `matplotlib` to create the chart.\\n\\n**Step 1: Collect information**\\n\\nI need the stock tickers (NVDA and TESLA) and the year-to-date (YTD) time period. Let me print these out:\\n\\n```python\\nimport yfinance as yf\\n\\nprint(\"NVDA ticker:\", NVDA)\\nprint(\"TESLA ticker:\", TESLA)\\nprint(\"YTD time period:\", \"2022-01-01 to 2023-02-20\")\\n```\\n\\n**Step 2: Fetch historical data**\\n\\nI\\'ll use `yfinance` to fetch the historical price data for both stocks:\\n\\n```python\\nnvda_data = yf.download(\\'NVDA\\', start=\\'2022-01-01\\', end=\\'2023-02-20\\')[\\'Adj Close\\']\\ntesla_data = yf.download(\\'TESLA\\', start=\\'2022-01-01\\', end=\\'2023-02-20\\')[\\'Adj Close\\']\\n```\\n\\n**Step 3: Plot the chart**\\n\\nI\\'ll use `matplotlib` to create a line chart showing the price change YTD:\\n\\n```python\\nimport matplotlib.pyplot as plt\\n\\nplt.figure(figsize=(10,6))\\nplt.plot(nvda_data, label=\\'NVDA\\')\\nplt.plot(tesla_data, label=\\'TESLA\\')\\nplt.xlabel(\\'Date\\')\\nplt.ylabel(\\'Adjusted Close Price (USD)\\')\\nplt.title(\\'NVDA and TESLA Stock Price Change YTD\\')\\nplt.legend()\\nplt.show()\\n```\\n\\nHere\\'s the code:\\n\\n```python\\n# filename: plot_nvda_tesla_chart.py\\n\\nimport yfinance as yf\\nimport matplotlib.pyplot as plt\\n\\nnvda_data = yf.download(\\'NVDA\\', start=\\'2022-01-01\\', end=\\'2023-02-20\\')[\\'Adj Close\\']\\ntesla_data = yf.download(\\'TESLA\\', start=\\'2022-01-01\\', end=\\'2023-02-20\\')[\\'Adj Close\\']\\n\\nplt.figure(figsize=(10,6))\\nplt.plot(nvda_data, label=\\'NVDA\\')\\nplt.plot(tesla_data, label=\\'TESLA\\')\\nplt.xlabel(\\'Date\\')\\nplt.ylabel(\\'Adjusted Close Price (USD)\\')\\nplt.title(\\'NVDA and TESLA Stock Price Change YTD\\')\\nplt.legend()\\nplt.show()\\n\\nTERMINATE', 'role': 'user'}], summary='To plot a chart of NVDA and TESLA stock price change YTD, I\\'ll use Python\\'s `yfinance` library to fetch the historical data and `matplotlib` to create the chart.\\n\\n**Step 1: Collect information**\\n\\nI need the stock tickers (NVDA and TESLA) and the year-to-date (YTD) time period. Let me print these out:\\n\\n```python\\nimport yfinance as yf\\n\\nprint(\"NVDA ticker:\", NVDA)\\nprint(\"TESLA ticker:\", TESLA)\\nprint(\"YTD time period:\", \"2022-01-01 to 2023-02-20\")\\n```\\n\\n**Step 2: Fetch historical data**\\n\\nI\\'ll use `yfinance` to fetch the historical price data for both stocks:\\n\\n```python\\nnvda_data = yf.download(\\'NVDA\\', start=\\'2022-01-01\\', end=\\'2023-02-20\\')[\\'Adj Close\\']\\ntesla_data = yf.download(\\'TESLA\\', start=\\'2022-01-01\\', end=\\'2023-02-20\\')[\\'Adj Close\\']\\n```\\n\\n**Step 3: Plot the chart**\\n\\nI\\'ll use `matplotlib` to create a line chart showing the price change YTD:\\n\\n```python\\nimport matplotlib.pyplot as plt\\n\\nplt.figure(figsize=(10,6))\\nplt.plot(nvda_data, label=\\'NVDA\\')\\nplt.plot(tesla_data, label=\\'TESLA\\')\\nplt.xlabel(\\'Date\\')\\nplt.ylabel(\\'Adjusted Close Price (USD)\\')\\nplt.title(\\'NVDA and TESLA Stock Price Change YTD\\')\\nplt.legend()\\nplt.show()\\n```\\n\\nHere\\'s the code:\\n\\n```python\\n# filename: plot_nvda_tesla_chart.py\\n\\nimport yfinance as yf\\nimport matplotlib.pyplot as plt\\n\\nnvda_data = yf.download(\\'NVDA\\', start=\\'2022-01-01\\', end=\\'2023-02-20\\')[\\'Adj Close\\']\\ntesla_data = yf.download(\\'TESLA\\', start=\\'2022-01-01\\', end=\\'2023-02-20\\')[\\'Adj Close\\']\\n\\nplt.figure(figsize=(10,6))\\nplt.plot(nvda_data, label=\\'NVDA\\')\\nplt.plot(tesla_data, label=\\'TESLA\\')\\nplt.xlabel(\\'Date\\')\\nplt.ylabel(\\'Adjusted Close Price (USD)\\')\\nplt.title(\\'NVDA and TESLA Stock Price Change YTD\\')\\nplt.legend()\\nplt.show()\\n\\n', cost={'usage_including_cached_inference': {'total_cost': 0, 'llama3': {'cost': 0, 'prompt_tokens': 492, 'completion_tokens': 503, 'total_tokens': 995}}, 'usage_excluding_cached_inference': {'total_cost': 0, 'llama3': {'cost': 0, 'prompt_tokens': 492, 'completion_tokens': 503, 'total_tokens': 995}}}, human_input=['exit'])"
      ]
     },
     "execution_count": 4,
     "metadata": {},
     "output_type": "execute_result"
    }
   ],
   "source": [
    "user_proxy.initiate_chat(\n",
    "    assistant,\n",
    "    message=\"Plot a chart of NVDA and TESLA stock price change YTD.\",\n",
    ")"
   ]
  },
  {
   "cell_type": "code",
   "execution_count": null,
   "id": "af7f4d5a-3531-407e-8cce-41181c27fb88",
   "metadata": {},
   "outputs": [],
   "source": []
  }
 ],
 "metadata": {
  "kernelspec": {
   "display_name": "Python 3 (ipykernel)",
   "language": "python",
   "name": "python3"
  },
  "language_info": {
   "codemirror_mode": {
    "name": "ipython",
    "version": 3
   },
   "file_extension": ".py",
   "mimetype": "text/x-python",
   "name": "python",
   "nbconvert_exporter": "python",
   "pygments_lexer": "ipython3",
   "version": "3.11.8"
  }
 },
 "nbformat": 4,
 "nbformat_minor": 5
}
