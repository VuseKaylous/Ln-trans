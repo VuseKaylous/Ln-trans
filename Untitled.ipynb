{
 "cells": [
  {
   "cell_type": "code",
   "execution_count": 1,
   "id": "798245f7-5222-4c13-b419-70ba0f3d9f4c",
   "metadata": {},
   "outputs": [],
   "source": [
    "import os\n",
    "import autogen\n",
    "from autogen import AssistantAgent, ConversableAgent, UserProxyAgent\n"
   ]
  },
  {
   "cell_type": "markdown",
   "id": "2f316492-992d-41a1-b553-cc6bb566c2c5",
   "metadata": {},
   "source": [
    "## Data"
   ]
  },
  {
   "cell_type": "code",
   "execution_count": 2,
   "id": "b572a599-f34b-4887-9cfe-0d23f6fc0acd",
   "metadata": {},
   "outputs": [],
   "source": [
    "def read_file(url):\n",
    "    file = open(url, \"r\")\n",
    "    data = file.read().split('\\n')\n",
    "    return data"
   ]
  },
  {
   "cell_type": "code",
   "execution_count": 4,
   "id": "d903a70f-b9d9-4402-b692-69f3da2b06d9",
   "metadata": {},
   "outputs": [
    {
     "data": {
      "text/plain": [
       "18720"
      ]
     },
     "execution_count": 4,
     "metadata": {},
     "output_type": "execute_result"
    }
   ],
   "source": [
    "len(read_file(\"data/PhoMT/detokenization/dev/dev.en\"))"
   ]
  },
  {
   "cell_type": "code",
   "execution_count": null,
   "id": "645968cc-9293-437f-b26e-12efc8de7393",
   "metadata": {},
   "outputs": [],
   "source": [
    "phoMT_dev_en = read_file(\"data/PhoMT/detokenization/dev/dev.en\")\n",
    "phoMT_dev_vi = read_file(\"data/PhoMT/detokenization/dev/dev.vi\")"
   ]
  },
  {
   "cell_type": "code",
   "execution_count": null,
   "id": "c5ec36fb-851e-4399-9a4c-bda38f70d83f",
   "metadata": {},
   "outputs": [],
   "source": []
  },
  {
   "cell_type": "markdown",
   "id": "32e7ef31-82c9-406d-b7cc-9d16ed8aac52",
   "metadata": {},
   "source": [
    "## Autogen test"
   ]
  },
  {
   "cell_type": "code",
   "execution_count": 2,
   "id": "4253db2f-e055-4fec-9279-2679f07a53e2",
   "metadata": {},
   "outputs": [],
   "source": [
    "# llm_config = {\"model\": \"gpt-4\", \"api_key\": os.environ[\"OPENAI_API_KEY\"]}\n",
    "llm_config = {\n",
    "    \"model\": \"llama3\",\n",
    "    \"base_url\": \"http://localhost:11434/v1\",\n",
    "    \"api_key\": \"ollama\"\n",
    "}"
   ]
  },
  {
   "cell_type": "code",
   "execution_count": 3,
   "id": "437d6931-9bf7-41cd-a100-aa374e73ae70",
   "metadata": {},
   "outputs": [],
   "source": [
    "assistant = AssistantAgent(\n",
    "    \"assistant\",\n",
    "    llm_config=llm_config,\n",
    ")\n",
    "\n",
    "user_proxy = UserProxyAgent(\n",
    "    \"user_proxy\",\n",
    "    code_execution_config=False,\n",
    "    human_input_mode=\"NEVER\",\n",
    "    max_consecutive_auto_reply=10,\n",
    "    is_termination_msg=lambda x: x.get(\"content\",\"\").rstrip().endswith(\"TERMINATE\"),\n",
    "    \n",
    ")"
   ]
  },
  {
   "cell_type": "code",
   "execution_count": 4,
   "id": "3f740608-a553-47b2-9641-b3dc41cc35c5",
   "metadata": {},
   "outputs": [
    {
     "name": "stdout",
     "output_type": "stream",
     "text": [
      "\u001b[33muser_proxy\u001b[0m (to assistant):\n",
      "\n",
      "Give me a short script about a high school anime\n",
      "\n",
      "--------------------------------------------------------------------------------\n",
      "[autogen.oai.client: 11-04 01:35:58] {329} WARNING - Model llama3 is not found. The cost will be 0. In your config_list, add field {\"price\" : [prompt_price_per_1k, completion_token_price_per_1k]} for customized pricing.\n",
      "\u001b[33massistant\u001b[0m (to user_proxy):\n",
      "\n",
      "Here's a short script for a high school anime:\n",
      "\n",
      "Title: \"Rise and Shine\"\n",
      "\n",
      "Act 1:\n",
      "(Scene opens with our protagonist, TAKAHIRO, walking down the hallways of Hanazono High School. He looks stressed out.)\n",
      "\n",
      "Takahiro: (to himself) Ugh, I have to get my grades up if I want to make it into college.\n",
      "\n",
      "(Suddenly, a girl with bright pink hair and a cheerful grin appears beside him.)\n",
      "\n",
      "Girl: Hey, Takahiro! What's wrong? You look like you've lost your last marble!\n",
      "\n",
      "Takahiro: (startled) Ah, KANA! You scared me half to death!\n",
      "\n",
      "Kana: (laughs) Sorry about that! So, what's eating at you?\n",
      "\n",
      "(Takahiro looks down, embarrassed.)\n",
      "\n",
      "Act 2:\n",
      "(Scene cuts to Takahiro and his friends, SATOSHI and RINA, sitting in the school courtyard during lunch.)\n",
      "\n",
      "Satoshi: I heard the school is having a talent show soon. You should enter it, Taka!\n",
      "\n",
      "Rina: Yeah! It'd be super fun!\n",
      "\n",
      "Takahiro: (sighs) I don't know...I'm not exactly the most talented person around.\n",
      "\n",
      "Kana: (appears out of nowhere again!) Oh, Takahiro's got skills! He can play the guitar!\n",
      "\n",
      "Satoshi and Rina: WOOHOO!\n",
      "\n",
      "Act 3:\n",
      "(Scene cuts to Takahiro, nervously fidgeting in front of his friends.)\n",
      "\n",
      "Takahiro: (whispers) Guys...I have an idea...\n",
      "\n",
      "(Kana gives him a thumbs-up.)\n",
      "\n",
      "(Take out your instruments!)\n",
      "\n",
      "(Song starts playing...)\n",
      "\n",
      "**Python code:**\n",
      "```python\n",
      "print(\"Act 1:\")\n",
      "print(\"Scene opens with our protagonist, Takahiro, walking down the hallways of Hanazono High School.\")\n",
      "print(\"He looks stressed out.\")\n",
      "\n",
      "print()\n",
      "print(\"Takahiro: (to himself) Ugh, I have to get my grades up if I want to make it into college.\")\n",
      "\n",
      "print()\n",
      "print(\"Scene cuts to Takahiro and his friends, Satoshi and Rina, sitting in the school courtyard during lunch.\")\n",
      "print(\"Satoshi: I heard the school is having a talent show soon. You should enter it, Taka!\")\n",
      "print(\"Rina: Yeah! It'd be super fun!\")\n",
      "\n",
      "print()\n",
      "print(\"Takahiro: (sighs) I don't know...I'm not exactly the most talented person around.\")\n",
      "\n",
      "print()\n",
      "print(\"Kana: (appears out of nowhere again!) Oh, Takahiro's got skills! He can play the guitar!\")\n",
      "```\n",
      "**Script type:** Python\n",
      "\n",
      "**Filename:** hanazono_script.py\n",
      "\n",
      "--------------------------------------------------------------------------------\n",
      "\u001b[33muser_proxy\u001b[0m (to assistant):\n",
      "\n",
      "\n",
      "\n",
      "--------------------------------------------------------------------------------\n",
      "[autogen.oai.client: 11-04 01:35:59] {329} WARNING - Model llama3 is not found. The cost will be 0. In your config_list, add field {\"price\" : [prompt_price_per_1k, completion_token_price_per_1k]} for customized pricing.\n",
      "\u001b[33massistant\u001b[0m (to user_proxy):\n",
      "\n",
      "TERMINATE\n",
      "\n",
      "--------------------------------------------------------------------------------\n"
     ]
    },
    {
     "data": {
      "text/plain": [
       "ChatResult(chat_id=None, chat_history=[{'content': 'Give me a short script about a high school anime', 'role': 'assistant'}, {'content': 'Here\\'s a short script for a high school anime:\\n\\nTitle: \"Rise and Shine\"\\n\\nAct 1:\\n(Scene opens with our protagonist, TAKAHIRO, walking down the hallways of Hanazono High School. He looks stressed out.)\\n\\nTakahiro: (to himself) Ugh, I have to get my grades up if I want to make it into college.\\n\\n(Suddenly, a girl with bright pink hair and a cheerful grin appears beside him.)\\n\\nGirl: Hey, Takahiro! What\\'s wrong? You look like you\\'ve lost your last marble!\\n\\nTakahiro: (startled) Ah, KANA! You scared me half to death!\\n\\nKana: (laughs) Sorry about that! So, what\\'s eating at you?\\n\\n(Takahiro looks down, embarrassed.)\\n\\nAct 2:\\n(Scene cuts to Takahiro and his friends, SATOSHI and RINA, sitting in the school courtyard during lunch.)\\n\\nSatoshi: I heard the school is having a talent show soon. You should enter it, Taka!\\n\\nRina: Yeah! It\\'d be super fun!\\n\\nTakahiro: (sighs) I don\\'t know...I\\'m not exactly the most talented person around.\\n\\nKana: (appears out of nowhere again!) Oh, Takahiro\\'s got skills! He can play the guitar!\\n\\nSatoshi and Rina: WOOHOO!\\n\\nAct 3:\\n(Scene cuts to Takahiro, nervously fidgeting in front of his friends.)\\n\\nTakahiro: (whispers) Guys...I have an idea...\\n\\n(Kana gives him a thumbs-up.)\\n\\n(Take out your instruments!)\\n\\n(Song starts playing...)\\n\\n**Python code:**\\n```python\\nprint(\"Act 1:\")\\nprint(\"Scene opens with our protagonist, Takahiro, walking down the hallways of Hanazono High School.\")\\nprint(\"He looks stressed out.\")\\n\\nprint()\\nprint(\"Takahiro: (to himself) Ugh, I have to get my grades up if I want to make it into college.\")\\n\\nprint()\\nprint(\"Scene cuts to Takahiro and his friends, Satoshi and Rina, sitting in the school courtyard during lunch.\")\\nprint(\"Satoshi: I heard the school is having a talent show soon. You should enter it, Taka!\")\\nprint(\"Rina: Yeah! It\\'d be super fun!\")\\n\\nprint()\\nprint(\"Takahiro: (sighs) I don\\'t know...I\\'m not exactly the most talented person around.\")\\n\\nprint()\\nprint(\"Kana: (appears out of nowhere again!) Oh, Takahiro\\'s got skills! He can play the guitar!\")\\n```\\n**Script type:** Python\\n\\n**Filename:** hanazono_script.py', 'role': 'user'}, {'content': '', 'role': 'assistant'}, {'content': 'TERMINATE', 'role': 'user'}], summary='', cost={'usage_including_cached_inference': {'total_cost': 0, 'llama3': {'cost': 0, 'prompt_tokens': 1537, 'completion_tokens': 565, 'total_tokens': 2102}}, 'usage_excluding_cached_inference': {'total_cost': 0, 'llama3': {'cost': 0, 'prompt_tokens': 1537, 'completion_tokens': 565, 'total_tokens': 2102}}}, human_input=[])"
      ]
     },
     "execution_count": 4,
     "metadata": {},
     "output_type": "execute_result"
    }
   ],
   "source": [
    "# assistant.generate_reply(\n",
    "#     messages = [{\"user\": \"Tell me about the first president of US\"}]\n",
    "# )\n",
    "\n",
    "user_proxy.initiate_chat(\n",
    "    assistant,\n",
    "    message=\"Give me a short script about a high school anime\",\n",
    ")"
   ]
  },
  {
   "cell_type": "code",
   "execution_count": null,
   "id": "af7f4d5a-3531-407e-8cce-41181c27fb88",
   "metadata": {},
   "outputs": [],
   "source": []
  }
 ],
 "metadata": {
  "kernelspec": {
   "display_name": "Python 3 (ipykernel)",
   "language": "python",
   "name": "python3"
  },
  "language_info": {
   "codemirror_mode": {
    "name": "ipython",
    "version": 3
   },
   "file_extension": ".py",
   "mimetype": "text/x-python",
   "name": "python",
   "nbconvert_exporter": "python",
   "pygments_lexer": "ipython3",
   "version": "3.11.8"
  }
 },
 "nbformat": 4,
 "nbformat_minor": 5
}
